{
  "nbformat": 4,
  "nbformat_minor": 0,
  "metadata": {
    "colab": {
      "provenance": []
    },
    "kernelspec": {
      "name": "python3",
      "display_name": "Python 3"
    },
    "language_info": {
      "name": "python"
    }
  },
  "cells": [
    {
      "cell_type": "code",
      "source": [
        "!pip install requests --quiet\n",
        "!pip install beautifulsoup4  --quiet\n",
        "!pip install transformers --quiet\n",
        "!pip install openai --quiet"
      ],
      "metadata": {
        "id": "DtS0dRjQeUWH",
        "colab": {
          "base_uri": "https://localhost:8080/"
        },
        "outputId": "2c14dc46-cf36-43a2-81b7-dd6500f05450"
      },
      "execution_count": 2,
      "outputs": [
        {
          "output_type": "stream",
          "name": "stdout",
          "text": [
            "\u001b[2K     \u001b[90m━━━━━━━━━━━━━━━━━━━━━━━━━━━━━━━━━━━━━━━━\u001b[0m \u001b[32m7.0/7.0 MB\u001b[0m \u001b[31m44.8 MB/s\u001b[0m eta \u001b[36m0:00:00\u001b[0m\n",
            "\u001b[2K     \u001b[90m━━━━━━━━━━━━━━━━━━━━━━━━━━━━━━━━━━━━━━━━\u001b[0m \u001b[32m7.8/7.8 MB\u001b[0m \u001b[31m46.0 MB/s\u001b[0m eta \u001b[36m0:00:00\u001b[0m\n",
            "\u001b[2K     \u001b[90m━━━━━━━━━━━━━━━━━━━━━━━━━━━━━━━━━━━━━━\u001b[0m \u001b[32m224.5/224.5 kB\u001b[0m \u001b[31m20.1 MB/s\u001b[0m eta \u001b[36m0:00:00\u001b[0m\n",
            "\u001b[2K     \u001b[90m━━━━━━━━━━━━━━━━━━━━━━━━━━━━━━━━━━━━━━━\u001b[0m \u001b[32m70.3/70.3 kB\u001b[0m \u001b[31m452.0 kB/s\u001b[0m eta \u001b[36m0:00:00\u001b[0m\n",
            "\u001b[2K     \u001b[90m━━━━━━━━━━━━━━━━━━━━━━━━━━━━━━━━━━━━━━━━\u001b[0m \u001b[32m1.0/1.0 MB\u001b[0m \u001b[31m20.3 MB/s\u001b[0m eta \u001b[36m0:00:00\u001b[0m\n",
            "\u001b[2K     \u001b[90m━━━━━━━━━━━━━━━━━━━━━━━━━━━━━━━━━━━━━━\u001b[0m \u001b[32m158.8/158.8 kB\u001b[0m \u001b[31m14.2 MB/s\u001b[0m eta \u001b[36m0:00:00\u001b[0m\n",
            "\u001b[2K     \u001b[90m━━━━━━━━━━━━━━━━━━━━━━━━━━━━━━━━━━━━━━\u001b[0m \u001b[32m269.4/269.4 kB\u001b[0m \u001b[31m23.9 MB/s\u001b[0m eta \u001b[36m0:00:00\u001b[0m\n",
            "\u001b[2K     \u001b[90m━━━━━━━━━━━━━━━━━━━━━━━━━━━━━━━━━━━━━━\u001b[0m \u001b[32m114.2/114.2 kB\u001b[0m \u001b[31m10.4 MB/s\u001b[0m eta \u001b[36m0:00:00\u001b[0m\n",
            "\u001b[?25h"
          ]
        }
      ]
    },
    {
      "cell_type": "code",
      "source": [
        "import requests\n",
        "from bs4 import BeautifulSoup\n",
        "import pandas as pd\n",
        "\n",
        "import openai\n",
        "import math\n",
        "import seaborn as sns\n",
        "import matplotlib.pyplot as plt\n",
        "from transformers import pipeline\n",
        "\n",
        "import nltk\n",
        "import re\n",
        "from nltk.corpus import stopwords\n",
        "from nltk.tokenize import word_tokenize\n",
        "from nltk.stem import SnowballStemmer\n",
        "nltk.download('stopwords')\n",
        "nltk.download('punkt')\n",
        "\n",
        "\n",
        "from transformers import BartTokenizer, BartForConditionalGeneration\n",
        "openai.api_key = \"\""
      ],
      "metadata": {
        "id": "mQNt4h4teiWQ",
        "colab": {
          "base_uri": "https://localhost:8080/"
        },
        "outputId": "5aceda3e-c257-4e76-e082-19f3f0f6487e"
      },
      "execution_count": 3,
      "outputs": [
        {
          "output_type": "stream",
          "name": "stderr",
          "text": [
            "[nltk_data] Downloading package stopwords to /root/nltk_data...\n",
            "[nltk_data]   Unzipping corpora/stopwords.zip.\n",
            "[nltk_data] Downloading package punkt to /root/nltk_data...\n",
            "[nltk_data]   Unzipping tokenizers/punkt.zip.\n"
          ]
        },
        {
          "output_type": "execute_result",
          "data": {
            "text/plain": [
              "True"
            ]
          },
          "metadata": {},
          "execution_count": 3
        }
      ]
    },
    {
      "cell_type": "code",
      "source": [
        "def get_reviews(url):\n",
        "    user_agent = ({'User-Agent':\n",
        "\t\t\t'Mozilla/5.0 (Windows NT 10.0; Win64; x64) \\\n",
        "\t\t\tAppleWebKit/537.36 (KHTML, like Gecko) \\\n",
        "\t\t\tChrome/90.0.4430.212 Safari/537.36',\n",
        "\t\t\t'Accept-Language': 'en-US, en;q=0.5'})\n",
        "    page = requests.get(url, headers = user_agent)\n",
        "    soup = BeautifulSoup(page.text, 'html.parser')\n",
        "\n",
        "    reviews = []\n",
        "    for review in soup.find_all('div', class_='review-container'):\n",
        "        rating = review.find('span', class_='ui_bubble_rating')['class'][1].split('_')[-1]\n",
        "        #title = review.find('div', class_='quote').text.strip()\n",
        "        content = review.find('div', class_='entry').find('p').text.strip()\n",
        "        #date = review.find('span', class_='ratingDate')['title']\n",
        "        reviews.append({\n",
        "            'rating': rating,\n",
        "            #'title': title,\n",
        "            'content': content,\n",
        "            #'date': date\n",
        "        })\n",
        "    next_page_link = soup.find('a', class_='nav next ui_button primary')\n",
        "    if next_page_link:\n",
        "        next_page_url = 'https://www.tripadvisor.com' + next_page_link['href']\n",
        "        # Recursively call the function to get reviews from the next page\n",
        "        reviews += get_reviews(next_page_url)    \n",
        "    return reviews\n"
      ],
      "metadata": {
        "id": "WGe_bEe3jABU"
      },
      "execution_count": 54,
      "outputs": []
    },
    {
      "cell_type": "code",
      "source": [
        "reviews=get_reviews(\"https://www.tripadvisor.com/Restaurant_Review-g294207-d17847946-Reviews-INTI_A_Nikkei_Experience-Nairobi.html\")\n"
      ],
      "metadata": {
        "id": "EZPqzvpsjFGG"
      },
      "execution_count": 58,
      "outputs": []
    },
    {
      "cell_type": "code",
      "source": [
        "def create_dataframe(data):\n",
        "    df = pd.DataFrame(data, columns=['rating', 'content'])\n",
        "    df['rating'] = df['rating'].astype(int) / 10\n",
        "    return df.rename(columns={'content': 'review'})\n"
      ],
      "metadata": {
        "id": "SCMpTE0ua0mt"
      },
      "execution_count": 56,
      "outputs": []
    },
    {
      "cell_type": "code",
      "source": [
        "reviews_df=create_dataframe(reviews)\n",
        "reviews_df.info()"
      ],
      "metadata": {
        "id": "b5GYcnjilcds",
        "colab": {
          "base_uri": "https://localhost:8080/"
        },
        "outputId": "969105c6-aa5c-42fe-e159-cb3d4c93be7c"
      },
      "execution_count": 59,
      "outputs": [
        {
          "output_type": "stream",
          "name": "stdout",
          "text": [
            "<class 'pandas.core.frame.DataFrame'>\n",
            "RangeIndex: 1386 entries, 0 to 1385\n",
            "Data columns (total 2 columns):\n",
            " #   Column  Non-Null Count  Dtype  \n",
            "---  ------  --------------  -----  \n",
            " 0   rating  1386 non-null   float64\n",
            " 1   review  1386 non-null   object \n",
            "dtypes: float64(1), object(1)\n",
            "memory usage: 21.8+ KB\n"
          ]
        }
      ]
    },
    {
      "cell_type": "code",
      "source": [
        "def preprocess_text(text):\n",
        "    # Lowercase the text\n",
        "    text = text.lower()\n",
        "\n",
        "    # Remove punctuation and special characters\n",
        "    text = re.sub(r'[^\\w\\s]|[\\d]', '', text)\n",
        "\n",
        "    # Tokenize the text\n",
        "    tokens = word_tokenize(text)\n",
        "    # Join the tokens back into a string\n",
        "    text = ' '.join(tokens)\n",
        "\n",
        "    return text\n"
      ],
      "metadata": {
        "id": "XRIGf54Jm0GK"
      },
      "execution_count": 9,
      "outputs": []
    },
    {
      "cell_type": "code",
      "source": [
        "reviews_df['review'] = reviews_df['review'].apply(preprocess_text)\n",
        "reviews_df['review']"
      ],
      "metadata": {
        "colab": {
          "base_uri": "https://localhost:8080/"
        },
        "id": "mjSTL7sAodp7",
        "outputId": "a4893938-7b2d-4cec-ed13-ea1fae121546"
      },
      "execution_count": 60,
      "outputs": [
        {
          "output_type": "execute_result",
          "data": {
            "text/plain": [
              "0       love the vibe and the atmosphere the food was ...\n",
              "1       really nice service and good food very nice se...\n",
              "2       great service by wycliffe good food and drinks...\n",
              "3       great place service was delightful thank you m...\n",
              "4       sumptuous food n best service from susan best ...\n",
              "                              ...                        \n",
              "1381    the location and view are great the interior s...\n",
              "1382    this place is amazing the food is excellent th...\n",
              "1383    if you are into peruvian and japanese cuisine ...\n",
              "1384    food is delicious and vegetarian friendly the ...\n",
              "1385    i am still trying to figure out why a restaura...\n",
              "Name: review, Length: 1386, dtype: object"
            ]
          },
          "metadata": {},
          "execution_count": 60
        }
      ]
    },
    {
      "cell_type": "code",
      "source": [
        "def sentiment_analysis(texts):\n",
        "    # Load pre-trained sentiment analysis pipeline\n",
        "    classifier = pipeline('sentiment-analysis')\n",
        "    \n",
        "    # Run sentiment analysis on input texts\n",
        "    results = classifier(texts)\n",
        "    \n",
        "    return results"
      ],
      "metadata": {
        "id": "tLvtAUY8AjiQ"
      },
      "execution_count": 11,
      "outputs": []
    },
    {
      "cell_type": "code",
      "source": [
        "# Get sentiment predictions for reviews in DataFrame\n",
        "sentiments = sentiment_analysis(reviews_df['review'].tolist())\n",
        "\n",
        "# Add sentiment predictions to DataFrame\n",
        "reviews_df['sentiment'] = [result['label'] for result in sentiments]\n",
        "reviews_df['confidence'] = [result['score'] for result in sentiments]\n",
        "\n",
        "# Get summary of sentiment predictions\n",
        "summary = reviews_df['sentiment'].value_counts()\n"
      ],
      "metadata": {
        "colab": {
          "base_uri": "https://localhost:8080/"
        },
        "id": "a5dS74RxKEat",
        "outputId": "a8733c3e-089a-4983-ab71-b99f1a4c8750"
      },
      "execution_count": 61,
      "outputs": [
        {
          "output_type": "stream",
          "name": "stderr",
          "text": [
            "No model was supplied, defaulted to distilbert-base-uncased-finetuned-sst-2-english and revision af0f99b (https://huggingface.co/distilbert-base-uncased-finetuned-sst-2-english).\n",
            "Using a pipeline without specifying a model name and revision in production is not recommended.\n"
          ]
        }
      ]
    },
    {
      "cell_type": "code",
      "source": [
        "summary"
      ],
      "metadata": {
        "colab": {
          "base_uri": "https://localhost:8080/"
        },
        "id": "nvOvWsUzKtK-",
        "outputId": "912b6941-48d6-4d96-b505-16c3618053b0"
      },
      "execution_count": 62,
      "outputs": [
        {
          "output_type": "execute_result",
          "data": {
            "text/plain": [
              "POSITIVE    1311\n",
              "NEGATIVE      75\n",
              "Name: sentiment, dtype: int64"
            ]
          },
          "metadata": {},
          "execution_count": 62
        }
      ]
    },
    {
      "cell_type": "code",
      "source": [
        "reviews_df"
      ],
      "metadata": {
        "colab": {
          "base_uri": "https://localhost:8080/",
          "height": 424
        },
        "id": "tR9KKiSTKI6g",
        "outputId": "5459f282-4564-4635-ba61-0e7ae211fbc4"
      },
      "execution_count": 14,
      "outputs": [
        {
          "output_type": "execute_result",
          "data": {
            "text/plain": [
              "     rating                                             review sentiment  \\\n",
              "0       5.0  servers jacob judy and peris made my entire fa...  POSITIVE   \n",
              "1       2.0  in post pandemic world the menu offering is po...  NEGATIVE   \n",
              "2       1.0  booked for a dinner when we came no more foods...  NEGATIVE   \n",
              "3       5.0  the lamb was amazing thank you corazon douglas...  POSITIVE   \n",
              "4       5.0  the food was amazing and the restaurant has a ...  POSITIVE   \n",
              "..      ...                                                ...       ...   \n",
              "99      5.0  i completely enjoyed the awesome ambience of s...  POSITIVE   \n",
              "100     4.0  i eat here every time i come to nairobi certai...  POSITIVE   \n",
              "101     4.0  great restuarant in the crowne plaza hotel fin...  POSITIVE   \n",
              "102     5.0  i have been to sikia on multiple occasions and...  POSITIVE   \n",
              "103     5.0  had a business dinner here with colleagues the...  POSITIVE   \n",
              "\n",
              "     confidence  \n",
              "0      0.999763  \n",
              "1      0.999536  \n",
              "2      0.998128  \n",
              "3      0.999771  \n",
              "4      0.999887  \n",
              "..          ...  \n",
              "99     0.999573  \n",
              "100    0.999747  \n",
              "101    0.993810  \n",
              "102    0.999631  \n",
              "103    0.999621  \n",
              "\n",
              "[104 rows x 4 columns]"
            ],
            "text/html": [
              "\n",
              "  <div id=\"df-0ab94e9e-1636-452a-a9cc-6c7dbb454517\">\n",
              "    <div class=\"colab-df-container\">\n",
              "      <div>\n",
              "<style scoped>\n",
              "    .dataframe tbody tr th:only-of-type {\n",
              "        vertical-align: middle;\n",
              "    }\n",
              "\n",
              "    .dataframe tbody tr th {\n",
              "        vertical-align: top;\n",
              "    }\n",
              "\n",
              "    .dataframe thead th {\n",
              "        text-align: right;\n",
              "    }\n",
              "</style>\n",
              "<table border=\"1\" class=\"dataframe\">\n",
              "  <thead>\n",
              "    <tr style=\"text-align: right;\">\n",
              "      <th></th>\n",
              "      <th>rating</th>\n",
              "      <th>review</th>\n",
              "      <th>sentiment</th>\n",
              "      <th>confidence</th>\n",
              "    </tr>\n",
              "  </thead>\n",
              "  <tbody>\n",
              "    <tr>\n",
              "      <th>0</th>\n",
              "      <td>5.0</td>\n",
              "      <td>servers jacob judy and peris made my entire fa...</td>\n",
              "      <td>POSITIVE</td>\n",
              "      <td>0.999763</td>\n",
              "    </tr>\n",
              "    <tr>\n",
              "      <th>1</th>\n",
              "      <td>2.0</td>\n",
              "      <td>in post pandemic world the menu offering is po...</td>\n",
              "      <td>NEGATIVE</td>\n",
              "      <td>0.999536</td>\n",
              "    </tr>\n",
              "    <tr>\n",
              "      <th>2</th>\n",
              "      <td>1.0</td>\n",
              "      <td>booked for a dinner when we came no more foods...</td>\n",
              "      <td>NEGATIVE</td>\n",
              "      <td>0.998128</td>\n",
              "    </tr>\n",
              "    <tr>\n",
              "      <th>3</th>\n",
              "      <td>5.0</td>\n",
              "      <td>the lamb was amazing thank you corazon douglas...</td>\n",
              "      <td>POSITIVE</td>\n",
              "      <td>0.999771</td>\n",
              "    </tr>\n",
              "    <tr>\n",
              "      <th>4</th>\n",
              "      <td>5.0</td>\n",
              "      <td>the food was amazing and the restaurant has a ...</td>\n",
              "      <td>POSITIVE</td>\n",
              "      <td>0.999887</td>\n",
              "    </tr>\n",
              "    <tr>\n",
              "      <th>...</th>\n",
              "      <td>...</td>\n",
              "      <td>...</td>\n",
              "      <td>...</td>\n",
              "      <td>...</td>\n",
              "    </tr>\n",
              "    <tr>\n",
              "      <th>99</th>\n",
              "      <td>5.0</td>\n",
              "      <td>i completely enjoyed the awesome ambience of s...</td>\n",
              "      <td>POSITIVE</td>\n",
              "      <td>0.999573</td>\n",
              "    </tr>\n",
              "    <tr>\n",
              "      <th>100</th>\n",
              "      <td>4.0</td>\n",
              "      <td>i eat here every time i come to nairobi certai...</td>\n",
              "      <td>POSITIVE</td>\n",
              "      <td>0.999747</td>\n",
              "    </tr>\n",
              "    <tr>\n",
              "      <th>101</th>\n",
              "      <td>4.0</td>\n",
              "      <td>great restuarant in the crowne plaza hotel fin...</td>\n",
              "      <td>POSITIVE</td>\n",
              "      <td>0.993810</td>\n",
              "    </tr>\n",
              "    <tr>\n",
              "      <th>102</th>\n",
              "      <td>5.0</td>\n",
              "      <td>i have been to sikia on multiple occasions and...</td>\n",
              "      <td>POSITIVE</td>\n",
              "      <td>0.999631</td>\n",
              "    </tr>\n",
              "    <tr>\n",
              "      <th>103</th>\n",
              "      <td>5.0</td>\n",
              "      <td>had a business dinner here with colleagues the...</td>\n",
              "      <td>POSITIVE</td>\n",
              "      <td>0.999621</td>\n",
              "    </tr>\n",
              "  </tbody>\n",
              "</table>\n",
              "<p>104 rows × 4 columns</p>\n",
              "</div>\n",
              "      <button class=\"colab-df-convert\" onclick=\"convertToInteractive('df-0ab94e9e-1636-452a-a9cc-6c7dbb454517')\"\n",
              "              title=\"Convert this dataframe to an interactive table.\"\n",
              "              style=\"display:none;\">\n",
              "        \n",
              "  <svg xmlns=\"http://www.w3.org/2000/svg\" height=\"24px\"viewBox=\"0 0 24 24\"\n",
              "       width=\"24px\">\n",
              "    <path d=\"M0 0h24v24H0V0z\" fill=\"none\"/>\n",
              "    <path d=\"M18.56 5.44l.94 2.06.94-2.06 2.06-.94-2.06-.94-.94-2.06-.94 2.06-2.06.94zm-11 1L8.5 8.5l.94-2.06 2.06-.94-2.06-.94L8.5 2.5l-.94 2.06-2.06.94zm10 10l.94 2.06.94-2.06 2.06-.94-2.06-.94-.94-2.06-.94 2.06-2.06.94z\"/><path d=\"M17.41 7.96l-1.37-1.37c-.4-.4-.92-.59-1.43-.59-.52 0-1.04.2-1.43.59L10.3 9.45l-7.72 7.72c-.78.78-.78 2.05 0 2.83L4 21.41c.39.39.9.59 1.41.59.51 0 1.02-.2 1.41-.59l7.78-7.78 2.81-2.81c.8-.78.8-2.07 0-2.86zM5.41 20L4 18.59l7.72-7.72 1.47 1.35L5.41 20z\"/>\n",
              "  </svg>\n",
              "      </button>\n",
              "      \n",
              "  <style>\n",
              "    .colab-df-container {\n",
              "      display:flex;\n",
              "      flex-wrap:wrap;\n",
              "      gap: 12px;\n",
              "    }\n",
              "\n",
              "    .colab-df-convert {\n",
              "      background-color: #E8F0FE;\n",
              "      border: none;\n",
              "      border-radius: 50%;\n",
              "      cursor: pointer;\n",
              "      display: none;\n",
              "      fill: #1967D2;\n",
              "      height: 32px;\n",
              "      padding: 0 0 0 0;\n",
              "      width: 32px;\n",
              "    }\n",
              "\n",
              "    .colab-df-convert:hover {\n",
              "      background-color: #E2EBFA;\n",
              "      box-shadow: 0px 1px 2px rgba(60, 64, 67, 0.3), 0px 1px 3px 1px rgba(60, 64, 67, 0.15);\n",
              "      fill: #174EA6;\n",
              "    }\n",
              "\n",
              "    [theme=dark] .colab-df-convert {\n",
              "      background-color: #3B4455;\n",
              "      fill: #D2E3FC;\n",
              "    }\n",
              "\n",
              "    [theme=dark] .colab-df-convert:hover {\n",
              "      background-color: #434B5C;\n",
              "      box-shadow: 0px 1px 3px 1px rgba(0, 0, 0, 0.15);\n",
              "      filter: drop-shadow(0px 1px 2px rgba(0, 0, 0, 0.3));\n",
              "      fill: #FFFFFF;\n",
              "    }\n",
              "  </style>\n",
              "\n",
              "      <script>\n",
              "        const buttonEl =\n",
              "          document.querySelector('#df-0ab94e9e-1636-452a-a9cc-6c7dbb454517 button.colab-df-convert');\n",
              "        buttonEl.style.display =\n",
              "          google.colab.kernel.accessAllowed ? 'block' : 'none';\n",
              "\n",
              "        async function convertToInteractive(key) {\n",
              "          const element = document.querySelector('#df-0ab94e9e-1636-452a-a9cc-6c7dbb454517');\n",
              "          const dataTable =\n",
              "            await google.colab.kernel.invokeFunction('convertToInteractive',\n",
              "                                                     [key], {});\n",
              "          if (!dataTable) return;\n",
              "\n",
              "          const docLinkHtml = 'Like what you see? Visit the ' +\n",
              "            '<a target=\"_blank\" href=https://colab.research.google.com/notebooks/data_table.ipynb>data table notebook</a>'\n",
              "            + ' to learn more about interactive tables.';\n",
              "          element.innerHTML = '';\n",
              "          dataTable['output_type'] = 'display_data';\n",
              "          await google.colab.output.renderOutput(dataTable, element);\n",
              "          const docLink = document.createElement('div');\n",
              "          docLink.innerHTML = docLinkHtml;\n",
              "          element.appendChild(docLink);\n",
              "        }\n",
              "      </script>\n",
              "    </div>\n",
              "  </div>\n",
              "  "
            ]
          },
          "metadata": {},
          "execution_count": 14
        }
      ]
    },
    {
      "cell_type": "code",
      "source": [
        "\n",
        "# Count the number of reviews with each sentiment\n",
        "summary = reviews_df['sentiment'].value_counts()\n",
        "\n",
        "# Create a pie chart using seaborn\n",
        "sns.set_style(\"whitegrid\")\n",
        "sns.color_palette(\"pastel\")\n",
        "plt.figure(figsize=(5,5))\n",
        "plt.title('Sentiment of Reviews')\n",
        "plt.pie(summary, labels=summary.index, autopct='%1.1f%%', startangle=90, colors=['#008080', '#E9967A'])\n",
        "plt.axis('equal')\n",
        "\n",
        "# Add legend\n",
        "plt.legend(title=\"Sentiment\", loc=\"center right\", bbox_to_anchor=(1, 0, 0.5, 1))\n",
        "\n",
        "# Show the chart\n",
        "plt.show()\n"
      ],
      "metadata": {
        "colab": {
          "base_uri": "https://localhost:8080/",
          "height": 449
        },
        "id": "s7-HGmnTMIgp",
        "outputId": "2db96c1e-42cf-4fe8-f026-abecac61af77"
      },
      "execution_count": 63,
      "outputs": [
        {
          "output_type": "display_data",
          "data": {
            "text/plain": [
              "<Figure size 500x500 with 1 Axes>"
            ],
            "image/png": "[encoded data removed]"
          },
          "metadata": {}
        }
      ]
    },
    {
      "cell_type": "code",
      "source": [
        "negative_reviews = reviews_df[reviews_df['sentiment']=='NEGATIVE']['review'].tolist()\n",
        "def generate_summary(text_list):\n",
        "\n",
        "    # Define prompt for GPT-3\n",
        "    prompt = (f\"I have text containing negative reviews: {text_list}. Can you summarize them?\")\n",
        "    \n",
        "    # Use OpenAI's GPT-3 to generate solutions based on input text\n",
        "    response = openai.Completion.create( model=\"text-davinci-003\", prompt=prompt, max_tokens=500,temperature=0)\n",
        "    \n",
        "    # Extract the generated text from the API response\n",
        "    solution = response.choices[0].text.strip()\n",
        "    \n",
        "    return solution"
      ],
      "metadata": {
        "id": "sQw86hmEd0V-"
      },
      "execution_count": 70,
      "outputs": []
    },
    {
      "cell_type": "code",
      "source": [
        "summary = generate_summary(negative_reviews)"
      ],
      "metadata": {
        "id": "LNwjogh_d-ju"
      },
      "execution_count": 71,
      "outputs": []
    },
    {
      "cell_type": "code",
      "source": [
        "summary"
      ],
      "metadata": {
        "colab": {
          "base_uri": "https://localhost:8080/",
          "height": 70
        },
        "id": "8J8epjc6iieF",
        "outputId": "f0e69d0b-9742-4e2a-f77a-dee3721e3661"
      },
      "execution_count": 72,
      "outputs": [
        {
          "output_type": "execute_result",
          "data": {
            "text/plain": [
              "'The reviews for Inti are generally negative, with customers citing poor service, expensive prices, and lack of attention to detail. Many customers also complained about the loud music, lack of access for disabled customers, and lack of response to emails or phone calls. The food was generally praised, but customers felt that the portions were too small and the prices too high.'"
            ],
            "application/vnd.google.colaboratory.intrinsic+json": {
              "type": "string"
            }
          },
          "metadata": {},
          "execution_count": 72
        }
      ]
    },
    {
      "cell_type": "code",
      "source": [
        "def generate_solution( text_list):\n",
        "\n",
        "    # Define prompt for GPT-3\n",
        "    prompt = (f\"I have a variable containing negative reviews: {text_list}. Can you recommend a solution?\")\n",
        "    \n",
        "    # Use OpenAI's GPT-3 to generate solutions based on input text\n",
        "    response = openai.Completion.create( model=\"text-davinci-003\", prompt=prompt, max_tokens=1024,temperature=0)\n",
        "    \n",
        "    # Extract the generated text from the API response\n",
        "    solution = response.choices[0].text.strip()\n",
        "    \n",
        "    return solution\n"
      ],
      "metadata": {
        "id": "jdNufVC7bFz1"
      },
      "execution_count": 40,
      "outputs": []
    },
    {
      "cell_type": "code",
      "source": [
        "recommendation = generate_solution(summary)\n",
        "recommendation"
      ],
      "metadata": {
        "colab": {
          "base_uri": "https://localhost:8080/",
          "height": 87
        },
        "id": "UZum0hQEdgIT",
        "outputId": "997e5fb8-f1c0-48e9-e915-ef9c3cfff415"
      },
      "execution_count": 73,
      "outputs": [
        {
          "output_type": "execute_result",
          "data": {
            "text/plain": [
              "'A possible solution to the negative reviews for Inti could be to focus on customer service. This could include providing better customer service training for staff, responding to emails and phone calls in a timely manner, and making sure that the restaurant is accessible for disabled customers. Additionally, the restaurant could consider lowering prices and increasing portion sizes to make the food more affordable and satisfying. Finally, the restaurant could look into ways to reduce the noise level in the restaurant, such as using soundproofing materials or playing softer music.'"
            ],
            "application/vnd.google.colaboratory.intrinsic+json": {
              "type": "string"
            }
          },
          "metadata": {},
          "execution_count": 73
        }
      ]
    },
    {
      "cell_type": "code",
      "source": [],
      "metadata": {
        "id": "92xf2Cq1hvaC"
      },
      "execution_count": null,
      "outputs": []
    }
  ]
}