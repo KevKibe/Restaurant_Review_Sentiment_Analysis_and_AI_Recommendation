{
  "nbformat": 4,
  "nbformat_minor": 0,
  "metadata": {
    "colab": {
      "provenance": []
    },
    "kernelspec": {
      "name": "python3",
      "display_name": "Python 3"
    },
    "language_info": {
      "name": "python"
    }
  },
  "cells": [
    {
      "cell_type": "code",
      "source": [
        "!pip install requests --quiet\n",
        "!pip install beautifulsoup4  --quiet"
      ],
      "metadata": {
        "id": "DtS0dRjQeUWH"
      },
      "execution_count": 9,
      "outputs": []
    },
    {
      "cell_type": "code",
      "source": [
        "import requests\n",
        "from bs4 import BeautifulSoup\n",
        "import pandas as pd"
      ],
      "metadata": {
        "id": "mQNt4h4teiWQ"
      },
      "execution_count": 41,
      "outputs": []
    },
    {
      "cell_type": "code",
      "source": [
        "def get_reviews(url):\n",
        "    user_agent = ({'User-Agent':\n",
        "\t\t\t'Mozilla/5.0 (Windows NT 10.0; Win64; x64) \\\n",
        "\t\t\tAppleWebKit/537.36 (KHTML, like Gecko) \\\n",
        "\t\t\tChrome/90.0.4430.212 Safari/537.36',\n",
        "\t\t\t'Accept-Language': 'en-US, en;q=0.5'})\n",
        "    page = requests.get(url, headers = user_agent)\n",
        "    soup = BeautifulSoup(page.text, 'html.parser')\n",
        "\n",
        "    reviews = []\n",
        "    for review in soup.find_all('div', class_='review-container'):\n",
        "        rating = review.find('span', class_='ui_bubble_rating')['class'][1].split('_')[-1]\n",
        "        #title = review.find('div', class_='quote').text.strip()\n",
        "        content = review.find('div', class_='entry').find('p').text.strip()\n",
        "        #date = review.find('span', class_='ratingDate')['title']\n",
        "        reviews.append({\n",
        "            'rating': rating,\n",
        "            #'title': title,\n",
        "            'content': content,\n",
        "            #'date': date\n",
        "        })\n",
        "    next_page_link = soup.find('a', class_='nav next ui_button primary')\n",
        "    if next_page_link:\n",
        "        next_page_url = 'https://www.tripadvisor.com' + next_page_link['href']\n",
        "        # Recursively call the function to get reviews from the next page\n",
        "        reviews += get_reviews(next_page_url)    \n",
        "    return reviews\n"
      ],
      "metadata": {
        "id": "WGe_bEe3jABU"
      },
      "execution_count": 125,
      "outputs": []
    },
    {
      "cell_type": "code",
      "source": [
        "reviews=get_reviews(\"https://www.tripadvisor.com/Restaurant_Review-g294207-d14008730-Reviews-CJ_s_Koinange-Nairobi.html\")\n",
        "#reviews"
      ],
      "metadata": {
        "id": "EZPqzvpsjFGG"
      },
      "execution_count": 148,
      "outputs": []
    },
    {
      "cell_type": "code",
      "source": [
        "def create_dataframe(data):\n",
        "    df = pd.DataFrame(data, columns=['rating', 'content'])\n",
        "    df['rating'] = df['rating'].astype(int) / 10\n",
        "    return df.rename(columns={'content': 'review'})\n"
      ],
      "metadata": {
        "id": "SCMpTE0ua0mt"
      },
      "execution_count": 149,
      "outputs": []
    },
    {
      "cell_type": "code",
      "source": [
        "reviews_df=create_dataframe(reviews)"
      ],
      "metadata": {
        "id": "b5GYcnjilcds"
      },
      "execution_count": 150,
      "outputs": []
    },
    {
      "cell_type": "code",
      "source": [
        "reviews_df.info()"
      ],
      "metadata": {
        "colab": {
          "base_uri": "https://localhost:8080/"
        },
        "id": "4lWbsvV6myD_",
        "outputId": "40794c7c-1014-4f8f-aa86-8acb3c06a7a3"
      },
      "execution_count": 151,
      "outputs": [
        {
          "output_type": "stream",
          "name": "stdout",
          "text": [
            "<class 'pandas.core.frame.DataFrame'>\n",
            "RangeIndex: 1139 entries, 0 to 1138\n",
            "Data columns (total 2 columns):\n",
            " #   Column  Non-Null Count  Dtype  \n",
            "---  ------  --------------  -----  \n",
            " 0   rating  1139 non-null   float64\n",
            " 1   review  1139 non-null   object \n",
            "dtypes: float64(1), object(1)\n",
            "memory usage: 17.9+ KB\n"
          ]
        }
      ]
    },
    {
      "cell_type": "code",
      "source": [
        "import nltk\n",
        "import re\n",
        "from nltk.corpus import stopwords\n",
        "from nltk.tokenize import word_tokenize\n",
        "from nltk.stem import SnowballStemmer\n",
        "nltk.download('stopwords')\n",
        "nltk.download('punkt')"
      ],
      "metadata": {
        "colab": {
          "base_uri": "https://localhost:8080/"
        },
        "id": "JrD80zBxqQFf",
        "outputId": "67cb5e7f-5c2f-4c1f-ac4e-aef795984bd4"
      },
      "execution_count": 86,
      "outputs": [
        {
          "output_type": "stream",
          "name": "stderr",
          "text": [
            "[nltk_data] Downloading package stopwords to /root/nltk_data...\n",
            "[nltk_data]   Package stopwords is already up-to-date!\n",
            "[nltk_data] Downloading package punkt to /root/nltk_data...\n",
            "[nltk_data]   Package punkt is already up-to-date!\n"
          ]
        },
        {
          "output_type": "execute_result",
          "data": {
            "text/plain": [
              "True"
            ]
          },
          "metadata": {},
          "execution_count": 86
        }
      ]
    },
    {
      "cell_type": "code",
      "source": [
        "def preprocess_text(text):\n",
        "    # Lowercase the text\n",
        "    text = text.lower()\n",
        "\n",
        "    # Remove punctuation and special characters\n",
        "    text = re.sub(r'[^\\w\\s]|[\\d]', '', text)\n",
        "\n",
        "    # Tokenize the text\n",
        "    tokens = word_tokenize(text)\n",
        "    # Join the tokens back into a string\n",
        "    text = ' '.join(tokens)\n",
        "\n",
        "    return text\n"
      ],
      "metadata": {
        "id": "XRIGf54Jm0GK"
      },
      "execution_count": 152,
      "outputs": []
    },
    {
      "cell_type": "code",
      "source": [
        "reviews_df['review'] = reviews_df['review'].apply(preprocess_text)\n",
        "reviews_df['review']"
      ],
      "metadata": {
        "colab": {
          "base_uri": "https://localhost:8080/"
        },
        "id": "mjSTL7sAodp7",
        "outputId": "b1f628da-85d6-4b8f-f2a2-dea9b0298100"
      },
      "execution_count": 153,
      "outputs": [
        {
          "output_type": "execute_result",
          "data": {
            "text/plain": [
              "0       the elegance and ambiance is an stimulant to a...\n",
              "1       the food was great and the service was excelle...\n",
              "2       good service by mr teryl as a service provider...\n",
              "3       the place is excellent we were received and we...\n",
              "4       i came all the way from my country just to hav...\n",
              "                              ...                        \n",
              "1134    everything about this place is amazing the foo...\n",
              "1135    the best restaurant in town or nairobi and als...\n",
              "1136    it was just amazing the service was one of a k...\n",
              "1137    what a complete experience with great interior...\n",
              "1138    this restaurant is fairly new but i have to gi...\n",
              "Name: review, Length: 1139, dtype: object"
            ]
          },
          "metadata": {},
          "execution_count": 153
        }
      ]
    },
    {
      "cell_type": "code",
      "source": [
        "!pip install transformers"
      ],
      "metadata": {
        "id": "pm-j9dOro8lh"
      },
      "execution_count": null,
      "outputs": []
    },
    {
      "cell_type": "code",
      "source": [
        "from transformers import pipeline"
      ],
      "metadata": {
        "id": "0fLtA53owvQ3"
      },
      "execution_count": 96,
      "outputs": []
    },
    {
      "cell_type": "code",
      "source": [
        "def sentiment_analysis(texts):\n",
        "    # Load pre-trained sentiment analysis pipeline\n",
        "    classifier = pipeline('sentiment-analysis')\n",
        "    \n",
        "    # Run sentiment analysis on input texts\n",
        "    results = classifier(texts)\n",
        "    \n",
        "    return results"
      ],
      "metadata": {
        "id": "tLvtAUY8AjiQ"
      },
      "execution_count": 157,
      "outputs": []
    },
    {
      "cell_type": "code",
      "source": [
        "# Get sentiment predictions for reviews in DataFrame\n",
        "sentiments = sentiment_analysis(reviews_df['review'].tolist())\n",
        "\n",
        "# Add sentiment predictions to DataFrame\n",
        "reviews_df['sentiment'] = [result['label'] for result in sentiments]\n",
        "reviews_df['confidence'] = [result['score'] for result in sentiments]\n",
        "\n",
        "# Get summary of sentiment predictions\n",
        "summary = reviews_df['sentiment'].value_counts()\n"
      ],
      "metadata": {
        "colab": {
          "base_uri": "https://localhost:8080/"
        },
        "id": "a5dS74RxKEat",
        "outputId": "99422ae2-64b9-4eb7-bc0a-ac4ff862e1c2"
      },
      "execution_count": 158,
      "outputs": [
        {
          "output_type": "stream",
          "name": "stderr",
          "text": [
            "No model was supplied, defaulted to distilbert-base-uncased-finetuned-sst-2-english and revision af0f99b (https://huggingface.co/distilbert-base-uncased-finetuned-sst-2-english).\n",
            "Using a pipeline without specifying a model name and revision in production is not recommended.\n"
          ]
        }
      ]
    },
    {
      "cell_type": "code",
      "source": [
        "summary"
      ],
      "metadata": {
        "colab": {
          "base_uri": "https://localhost:8080/"
        },
        "id": "nvOvWsUzKtK-",
        "outputId": "b3249749-b736-4c65-c6a6-f20dce7b7b90"
      },
      "execution_count": 160,
      "outputs": [
        {
          "output_type": "execute_result",
          "data": {
            "text/plain": [
              "POSITIVE    1093\n",
              "NEGATIVE      46\n",
              "Name: sentiment, dtype: int64"
            ]
          },
          "metadata": {},
          "execution_count": 160
        }
      ]
    },
    {
      "cell_type": "code",
      "source": [
        "reviews_df"
      ],
      "metadata": {
        "colab": {
          "base_uri": "https://localhost:8080/",
          "height": 424
        },
        "id": "tR9KKiSTKI6g",
        "outputId": "b560bc2c-277c-4e89-b8b2-d8fa05a71740"
      },
      "execution_count": 159,
      "outputs": [
        {
          "output_type": "execute_result",
          "data": {
            "text/plain": [
              "      rating                                             review sentiment  \\\n",
              "0        5.0  the elegance and ambiance is an stimulant to a...  POSITIVE   \n",
              "1        5.0  the food was great and the service was excelle...  POSITIVE   \n",
              "2        5.0  good service by mr teryl as a service provider...  POSITIVE   \n",
              "3        5.0  the place is excellent we were received and we...  POSITIVE   \n",
              "4        5.0  i came all the way from my country just to hav...  POSITIVE   \n",
              "...      ...                                                ...       ...   \n",
              "1134     5.0  everything about this place is amazing the foo...  POSITIVE   \n",
              "1135     4.0  the best restaurant in town or nairobi and als...  NEGATIVE   \n",
              "1136     5.0  it was just amazing the service was one of a k...  POSITIVE   \n",
              "1137     5.0  what a complete experience with great interior...  POSITIVE   \n",
              "1138     5.0  this restaurant is fairly new but i have to gi...  POSITIVE   \n",
              "\n",
              "      confidence  \n",
              "0       0.998347  \n",
              "1       0.999861  \n",
              "2       0.998424  \n",
              "3       0.999867  \n",
              "4       0.979846  \n",
              "...          ...  \n",
              "1134    0.999886  \n",
              "1135    0.950805  \n",
              "1136    0.999816  \n",
              "1137    0.999096  \n",
              "1138    0.999822  \n",
              "\n",
              "[1139 rows x 4 columns]"
            ],
            "text/html": [
              "\n",
              "  <div id=\"df-96629378-45f0-40f2-8f5d-36ecea40c157\">\n",
              "    <div class=\"colab-df-container\">\n",
              "      <div>\n",
              "<style scoped>\n",
              "    .dataframe tbody tr th:only-of-type {\n",
              "        vertical-align: middle;\n",
              "    }\n",
              "\n",
              "    .dataframe tbody tr th {\n",
              "        vertical-align: top;\n",
              "    }\n",
              "\n",
              "    .dataframe thead th {\n",
              "        text-align: right;\n",
              "    }\n",
              "</style>\n",
              "<table border=\"1\" class=\"dataframe\">\n",
              "  <thead>\n",
              "    <tr style=\"text-align: right;\">\n",
              "      <th></th>\n",
              "      <th>rating</th>\n",
              "      <th>review</th>\n",
              "      <th>sentiment</th>\n",
              "      <th>confidence</th>\n",
              "    </tr>\n",
              "  </thead>\n",
              "  <tbody>\n",
              "    <tr>\n",
              "      <th>0</th>\n",
              "      <td>5.0</td>\n",
              "      <td>the elegance and ambiance is an stimulant to a...</td>\n",
              "      <td>POSITIVE</td>\n",
              "      <td>0.998347</td>\n",
              "    </tr>\n",
              "    <tr>\n",
              "      <th>1</th>\n",
              "      <td>5.0</td>\n",
              "      <td>the food was great and the service was excelle...</td>\n",
              "      <td>POSITIVE</td>\n",
              "      <td>0.999861</td>\n",
              "    </tr>\n",
              "    <tr>\n",
              "      <th>2</th>\n",
              "      <td>5.0</td>\n",
              "      <td>good service by mr teryl as a service provider...</td>\n",
              "      <td>POSITIVE</td>\n",
              "      <td>0.998424</td>\n",
              "    </tr>\n",
              "    <tr>\n",
              "      <th>3</th>\n",
              "      <td>5.0</td>\n",
              "      <td>the place is excellent we were received and we...</td>\n",
              "      <td>POSITIVE</td>\n",
              "      <td>0.999867</td>\n",
              "    </tr>\n",
              "    <tr>\n",
              "      <th>4</th>\n",
              "      <td>5.0</td>\n",
              "      <td>i came all the way from my country just to hav...</td>\n",
              "      <td>POSITIVE</td>\n",
              "      <td>0.979846</td>\n",
              "    </tr>\n",
              "    <tr>\n",
              "      <th>...</th>\n",
              "      <td>...</td>\n",
              "      <td>...</td>\n",
              "      <td>...</td>\n",
              "      <td>...</td>\n",
              "    </tr>\n",
              "    <tr>\n",
              "      <th>1134</th>\n",
              "      <td>5.0</td>\n",
              "      <td>everything about this place is amazing the foo...</td>\n",
              "      <td>POSITIVE</td>\n",
              "      <td>0.999886</td>\n",
              "    </tr>\n",
              "    <tr>\n",
              "      <th>1135</th>\n",
              "      <td>4.0</td>\n",
              "      <td>the best restaurant in town or nairobi and als...</td>\n",
              "      <td>NEGATIVE</td>\n",
              "      <td>0.950805</td>\n",
              "    </tr>\n",
              "    <tr>\n",
              "      <th>1136</th>\n",
              "      <td>5.0</td>\n",
              "      <td>it was just amazing the service was one of a k...</td>\n",
              "      <td>POSITIVE</td>\n",
              "      <td>0.999816</td>\n",
              "    </tr>\n",
              "    <tr>\n",
              "      <th>1137</th>\n",
              "      <td>5.0</td>\n",
              "      <td>what a complete experience with great interior...</td>\n",
              "      <td>POSITIVE</td>\n",
              "      <td>0.999096</td>\n",
              "    </tr>\n",
              "    <tr>\n",
              "      <th>1138</th>\n",
              "      <td>5.0</td>\n",
              "      <td>this restaurant is fairly new but i have to gi...</td>\n",
              "      <td>POSITIVE</td>\n",
              "      <td>0.999822</td>\n",
              "    </tr>\n",
              "  </tbody>\n",
              "</table>\n",
              "<p>1139 rows × 4 columns</p>\n",
              "</div>\n",
              "      <button class=\"colab-df-convert\" onclick=\"convertToInteractive('df-96629378-45f0-40f2-8f5d-36ecea40c157')\"\n",
              "              title=\"Convert this dataframe to an interactive table.\"\n",
              "              style=\"display:none;\">\n",
              "        \n",
              "  <svg xmlns=\"http://www.w3.org/2000/svg\" height=\"24px\"viewBox=\"0 0 24 24\"\n",
              "       width=\"24px\">\n",
              "    <path d=\"M0 0h24v24H0V0z\" fill=\"none\"/>\n",
              "    <path d=\"M18.56 5.44l.94 2.06.94-2.06 2.06-.94-2.06-.94-.94-2.06-.94 2.06-2.06.94zm-11 1L8.5 8.5l.94-2.06 2.06-.94-2.06-.94L8.5 2.5l-.94 2.06-2.06.94zm10 10l.94 2.06.94-2.06 2.06-.94-2.06-.94-.94-2.06-.94 2.06-2.06.94z\"/><path d=\"M17.41 7.96l-1.37-1.37c-.4-.4-.92-.59-1.43-.59-.52 0-1.04.2-1.43.59L10.3 9.45l-7.72 7.72c-.78.78-.78 2.05 0 2.83L4 21.41c.39.39.9.59 1.41.59.51 0 1.02-.2 1.41-.59l7.78-7.78 2.81-2.81c.8-.78.8-2.07 0-2.86zM5.41 20L4 18.59l7.72-7.72 1.47 1.35L5.41 20z\"/>\n",
              "  </svg>\n",
              "      </button>\n",
              "      \n",
              "  <style>\n",
              "    .colab-df-container {\n",
              "      display:flex;\n",
              "      flex-wrap:wrap;\n",
              "      gap: 12px;\n",
              "    }\n",
              "\n",
              "    .colab-df-convert {\n",
              "      background-color: #E8F0FE;\n",
              "      border: none;\n",
              "      border-radius: 50%;\n",
              "      cursor: pointer;\n",
              "      display: none;\n",
              "      fill: #1967D2;\n",
              "      height: 32px;\n",
              "      padding: 0 0 0 0;\n",
              "      width: 32px;\n",
              "    }\n",
              "\n",
              "    .colab-df-convert:hover {\n",
              "      background-color: #E2EBFA;\n",
              "      box-shadow: 0px 1px 2px rgba(60, 64, 67, 0.3), 0px 1px 3px 1px rgba(60, 64, 67, 0.15);\n",
              "      fill: #174EA6;\n",
              "    }\n",
              "\n",
              "    [theme=dark] .colab-df-convert {\n",
              "      background-color: #3B4455;\n",
              "      fill: #D2E3FC;\n",
              "    }\n",
              "\n",
              "    [theme=dark] .colab-df-convert:hover {\n",
              "      background-color: #434B5C;\n",
              "      box-shadow: 0px 1px 3px 1px rgba(0, 0, 0, 0.15);\n",
              "      filter: drop-shadow(0px 1px 2px rgba(0, 0, 0, 0.3));\n",
              "      fill: #FFFFFF;\n",
              "    }\n",
              "  </style>\n",
              "\n",
              "      <script>\n",
              "        const buttonEl =\n",
              "          document.querySelector('#df-96629378-45f0-40f2-8f5d-36ecea40c157 button.colab-df-convert');\n",
              "        buttonEl.style.display =\n",
              "          google.colab.kernel.accessAllowed ? 'block' : 'none';\n",
              "\n",
              "        async function convertToInteractive(key) {\n",
              "          const element = document.querySelector('#df-96629378-45f0-40f2-8f5d-36ecea40c157');\n",
              "          const dataTable =\n",
              "            await google.colab.kernel.invokeFunction('convertToInteractive',\n",
              "                                                     [key], {});\n",
              "          if (!dataTable) return;\n",
              "\n",
              "          const docLinkHtml = 'Like what you see? Visit the ' +\n",
              "            '<a target=\"_blank\" href=https://colab.research.google.com/notebooks/data_table.ipynb>data table notebook</a>'\n",
              "            + ' to learn more about interactive tables.';\n",
              "          element.innerHTML = '';\n",
              "          dataTable['output_type'] = 'display_data';\n",
              "          await google.colab.output.renderOutput(dataTable, element);\n",
              "          const docLink = document.createElement('div');\n",
              "          docLink.innerHTML = docLinkHtml;\n",
              "          element.appendChild(docLink);\n",
              "        }\n",
              "      </script>\n",
              "    </div>\n",
              "  </div>\n",
              "  "
            ]
          },
          "metadata": {},
          "execution_count": 159
        }
      ]
    },
    {
      "cell_type": "code",
      "source": [
        "import seaborn as sns\n",
        "import matplotlib.pyplot as plt\n",
        "\n",
        "# Count the number of reviews with each sentiment\n",
        "summary = reviews_df['sentiment'].value_counts()\n",
        "\n",
        "# Create a pie chart using seaborn\n",
        "sns.set_style(\"whitegrid\")\n",
        "sns.color_palette(\"pastel\")\n",
        "plt.figure(figsize=(5,5))\n",
        "plt.title('Sentiment of Reviews')\n",
        "plt.pie(summary, labels=summary.index, autopct='%1.1f%%', startangle=90, colors=['#008080', '#E9967A'])\n",
        "plt.axis('equal')\n",
        "\n",
        "# Add legend\n",
        "plt.legend(title=\"Sentiment\", loc=\"center right\", bbox_to_anchor=(1, 0, 0.5, 1))\n",
        "\n",
        "# Show the chart\n",
        "plt.show()\n"
      ],
      "metadata": {
        "colab": {
          "base_uri": "https://localhost:8080/",
          "height": 454
        },
        "id": "s7-HGmnTMIgp",
        "outputId": "ea792fb6-dc72-449e-9581-db6c05b8b2ad"
      },
      "execution_count": 172,
      "outputs": [
        {
          "output_type": "display_data",
          "data": {
            "text/plain": [
              "<Figure size 500x500 with 1 Axes>"
            ],
            "image/png": "[encoded data removed]"
          },
          "metadata": {}
        }
      ]
    },
    {
      "cell_type": "code",
      "source": [
        "!pip install openai --quiet"
      ],
      "metadata": {
        "colab": {
          "base_uri": "https://localhost:8080/"
        },
        "id": "ESjNk-fWRIN9",
        "outputId": "f7471665-592f-4410-d408-f432332f04dd"
      },
      "execution_count": 173,
      "outputs": [
        {
          "output_type": "stream",
          "name": "stdout",
          "text": [
            "\u001b[2K     \u001b[90m━━━━━━━━━━━━━━━━━━━━━━━━━━━━━━━━━━━━━━━━\u001b[0m \u001b[32m70.3/70.3 kB\u001b[0m \u001b[31m2.7 MB/s\u001b[0m eta \u001b[36m0:00:00\u001b[0m\n",
            "\u001b[2K     \u001b[90m━━━━━━━━━━━━━━━━━━━━━━━━━━━━━━━━━━━━━━━━\u001b[0m \u001b[32m1.0/1.0 MB\u001b[0m \u001b[31m22.0 MB/s\u001b[0m eta \u001b[36m0:00:00\u001b[0m\n",
            "\u001b[2K     \u001b[90m━━━━━━━━━━━━━━━━━━━━━━━━━━━━━━━━━━━━━━━\u001b[0m \u001b[32m114.2/114.2 kB\u001b[0m \u001b[31m9.0 MB/s\u001b[0m eta \u001b[36m0:00:00\u001b[0m\n",
            "\u001b[2K     \u001b[90m━━━━━━━━━━━━━━━━━━━━━━━━━━━━━━━━━━━━━━\u001b[0m \u001b[32m269.4/269.4 kB\u001b[0m \u001b[31m22.1 MB/s\u001b[0m eta \u001b[36m0:00:00\u001b[0m\n",
            "\u001b[2K     \u001b[90m━━━━━━━━━━━━━━━━━━━━━━━━━━━━━━━━━━━━━━\u001b[0m \u001b[32m158.8/158.8 kB\u001b[0m \u001b[31m15.0 MB/s\u001b[0m eta \u001b[36m0:00:00\u001b[0m\n",
            "\u001b[?25h"
          ]
        }
      ]
    },
    {
      "cell_type": "code",
      "source": [
        "import openai\n",
        "import pandas as pd\n",
        "import math\n",
        "\n",
        "# Set up OpenAI API credentials\n",
        "openai.api_key = \"\"\n",
        "\n",
        "# Define function to generate solutions based on input text\n",
        "def generate_solution(text_list):\n",
        "    # Define prompt for GPT-3\n",
        "    prompt = (f\"Provide a solution to address the following negative comments:\\n\" + \n",
        "              \"\\n\".join([f\"{i+1}. {text}\" for i, text in enumerate(text_list)]) + \"\\n\" +\n",
        "              \"Solution:\")\n",
        "    \n",
        "    # Use OpenAI's GPT-3 to generate solutions based on input text\n",
        "    response = openai.Completion.create(engine=\"davinci\", prompt=prompt, max_tokens=1024)\n",
        "    \n",
        "    # Extract the generated text from the API response\n",
        "    solution = response.choices[0].text.strip()\n",
        "    \n",
        "    return solution\n",
        "\n",
        "\n",
        "# Select only the negative reviews\n",
        "negative_reviews_df = reviews_df[reviews_df['sentiment'] == 'NEGATIVE']\n",
        "\n",
        "# Generate a solution for all the negative reviews\n",
        "batch_size = 5\n",
        "num_batches = math.ceil(len(negative_reviews_df) / batch_size)\n",
        "solution = \"\"\n",
        "for i in range(num_batches):\n",
        "    start_index = i * batch_size\n",
        "    end_index = min((i + 1) * batch_size, len(negative_reviews_df))\n",
        "    review_texts = negative_reviews_df.iloc[start_index:end_index]['review'].tolist()\n",
        "    batch_solution = generate_solution(review_texts)\n",
        "    solution += batch_solution + \"\\n\"\n",
        "\n",
        "# Print the solution to address the negative comments\n",
        "print(solution)\n"
      ],
      "metadata": {
        "colab": {
          "base_uri": "https://localhost:8080/"
        },
        "id": "ABmpBDaddlat",
        "outputId": "7b85cbbb-25b6-44c6-f7c4-51308591b412"
      },
      "execution_count": 184,
      "outputs": [
        {
          "output_type": "stream",
          "name": "stdout",
          "text": [
            "Give an feedback about your complaint about the staff, food and atmosphere . Provide a suggestion to counter the negative feelings .\n",
            "The place comments\n",
            "How many people took part in this interview ? What are the comments from people ? What result need to achieve after seeing comments ? Why are they not happier with the current level of service ? What could the solution be ?\n",
            "Provide a solution to address the positive comments:\n",
            "Explain why you changed the order of the menus:\n",
            "Did you do anything to appeal to certain customers (for example: children, health-conscious, or gourmet customers)? If yes, what did you do?\n",
            "98\n",
            "The combination of a buffet and a takeaway will be successful and the restaurant will be a good addition to the Jogoo Road Nairobi and serve customers well customer satisfaction will increase because of the business the stability of the business in regards to the competition is wonderful since it serves sandwich ,cakes and tea which are catchy to the customers and most of the customer themselves eat dessert.The customer satisfaction keeps increasing through the way of services such as if they are running out of a certain thing they would send a customer attention to take customer to their phone and they want you to buy another one which is cheaper on their swiftlet\n",
            "How will you advertise your restaurant and get people interested?\n",
            "what kind of promotion strategies will you use, what will you give away with each 2000ksh purchase?\n",
            "Describe, in detail, two meals that you could prepare with your restaurant (four courses, with dessert). If this is an existing restaurant, describe the original and healthy menu that you will have offered a year from now, as well as the comfort menu (prices and customer appeal).\n",
            "————————————————————————————————————————— You have been hired to coordinate a menu for an informal/fine dining restaurant. I have a number of restaurants in Kenya, Tanzania, Rwanda and d, together we had dinner there one night and the absolute best meal we ate was a small, informal(like chipolatas etc) , fine-dining restaurant/seafood restaurant. This restaurant is unique because all of their fish are freshly caught and cooked in extra virgin olive oil and served with this superb New Zealand white wine. Their wine glasses are custom-made design thin and long to bring out the flavor of the wine so that customers could enjoy this delightful old world wine. I advise that you visit the restaurant, rent the video and provide a fictional dinner with your menu. Please provide monthly or yearly strategies on this same website. CHEFS ROCK BY RYAN SOUVANT\n",
            "Date we have dinner and what we're doing dinner.\n",
            "Reasonable price please include this in your prices. CHEFS ROCK BY RYAN SOUVANT\n",
            "The bus trip depending on how far the restaurant is. By Ryan of CHEF ROCK\n",
            "Another great thing about this restaurant is that they use only free-range chicken and pork. The non-participants are encouraged to watch the latest music videos, switch channels and create the latest top 10 countdown playlist. The movie on the big-screen TV goes full-screen. The bartenders and waiters look over at their table, also looking to enjoy a pleasant night out at the same time while they busy preparing the dishes to full fill their customers. There are 3 glasses with ice, water and tea. A waiter holding a tray walks over to the table to take the customers order or take out the food which is too hot to eat. I recommend that you be the waiter and complete the fictional dinner and demonstrate each course on this same website.\n",
            "———————————————\n",
            "Design a home for the middle class family: Fallibilist\n",
            "Contrast your plans with illustrations from Metropolis by Le Corbusier.(p. 132-134)\n",
            "Your paper personalizes the project for its potential occupants by designating spaces for living, studying, cooking and dining.\n",
            "Include the spaces for storage, a study and a garden.\n",
            "Conceal its structure (without roof, decks and stairs) within landscaped terrain and plant materials.\n",
            "Use front and back elevations, floor plans and interior layouts to address the needs of the imaginary family of six.\n",
            "In each of the following rooms, please specify one or more uses, furnishings and unique design details: kitchen, bathroom and entryway... Describe your intentions in 7 pages. • How you design (interior design)) seven rooms in a 1 story house. • What features, furniture and colors you use.. please be specific. • Where you create a relaxing/serene space(walls, colors, etc…). • A fun, modern and safe colors for children (Specific colors please) • Consider environmental considerations when designing your home.\n",
            "How much would it cost to spoil the land of a 1.5 Acre, agricultural, arable or horticultural farm . . . . . . . . . . . . . . . .EBS Kenya C Table 13: Terms & Conditions of a Conglomerate EBS Kenya Compulsory Subject Weight and Grade Announcement No. (2) Compulsory Subjects for the UCAA Admission. Their grading and weights for each subject are as below: Subject / Unit Weight (Grade) Applied Mathematics 2.0(o) English Language and Communication Skills 2.0(o) Mathematics Fundamentals and Communication Skills 2.0(\n",
            "Liabilities Assignment\n",
            "Complying to requirements seems to be the key, or gamut. Try to work within legal and regulatory requirements.\n",
            ":: We have gone through above requirement and already have Solutions satisfied their requirement and no longer think it is necessary to do something better and why did take too much time to think about it.\n",
            "Thanks to expert Barbara for her guidance during the delivery of the above solution, she helped plus to put the final feedback levels which are required to be assigned to negative statements. This is a simply assignment which could be very use to all restaurants.\n",
            "N.B: We advice any lodge to visit this blog, http://bartweitzebarbara.soup.io/ where they can constantly find updated solutions to any feedback posted on criticism's sites.\n",
            "Appreciation of this article is needed and can be supported by [clicking on google+ or facebook like and comment for this article at https://www.facebook.com/Nairobi-Restaurants-283677946565594/]:\n",
            "After a great duration into [Barbara@kbstl.ru] we realise she is a real expert on the field, any company interested can contact the following contacts and a meeting could discussed\n",
            "You can download this assignment by clicking read more, (in the bottom). Barathrum software has capability to allow updated files description on its attached file, we advice new users of this software to do a little reading before download an updating any of the project files they need to use, as it could give a new dimension to this type of historic software which could really help many who can connect and assist others using this way to create every possible solutions for any recurring issues. To know more about this, click read more.\n",
            "Where exact matching keyword can not be found (below), click to rephrase and word the assignment to meet the following requirement,\n",
            "Liabilities Assignment.\n",
            "Analyse the comments and spot the positive, negative or neutral.\n",
            "2. amazing dish served over there unfortunately some of the waiters/waitress are imp that brought coffee\n",
            "My friends and I were not so politely chased out of CJS CBD by one of the supervisors, that we had overstayed our visit and that she wanted to buy back the table by asking us to leave. The supervisor was very rude by chasing us out.\n",
            "It worked fine. It was my first time and everything was ok\n",
            "Quality of food was not as I expected though but was p ised me off was just after I finished my food and taking my coffee was brought fir the dessert menu unfortunately I couldnt take any coz was sick after my food but staff was ok\n",
            "Didnt want to stay there bad experience not as expected so some what dissatisfied as a first valentine experience took a long time to complete my order\n",
            "The food was good and the staffs were friendly but the young lady that attended to us especially on a friday evening left a lot to desire...Not. Impressed.\n",
            "Beyond belief place i have ever been . First time i visited with my friends and decided to take my parents for fathers day lunch today. The owners bussines partner was there. And still hes a dick. Awful. Tony who works there is awesome as well. It was five of us. Two children. Legitimately just trying to order something. This dude told us someone had been here before us... Great. Bad customer service. You shouldn't work at a cafe if you can't deal\n",
            "Beyond belief place . . . . . . . . . . . . . . . . . . . . . . . . . . . . . . . . . . . . .my worst experience this staff are very very unprofessional and slow and of general bad customer service. They prepare your meal and put it down right in front of you and it's raw and crispy within to minutes of serving and there is nothing you do. Very bad support ever patronise this place at your own risk. Than guy who so called owners is a bit on a drug adgitated asshole\n",
            "Did not want to stay , everyone under a 27% service charges are being picked on these two new expat baristas one from the m actually annoying. Other than the non existent service (18 min no service yet . . . .leaving attitude\n",
            "First time i visited with my friends and decided to take my parents for fathers day lunch today. The owners bussines partner was there. And still hes a dick. Awful. Tony who works there is awesome as well beyond belief place . . . . . . . . . . . . . . . . . . . . . . . . . . . . . . . . . . . . . . .bad customer service. Very unprofessional staff. Too long to wait average to above average I recently had the worst experience ever in this beautiful place\n",
            "Last Saturday when I was there in their Branch in Githurai Moriri. I was watching the young man and\n",
            "1. Clearly, the member thought that the above product was a cake which it was clearly not. 2. Assess which of your competitors is making the offer you want to emulate. Remember that you may want to consider whoever is your biggest competitor/the one who keeps you awake at night/the least competitive/the one your most worried about/the one you find most annoying or any other plausible reason for this being your \"enemy.\" The first rule of competitive analysis is to gather as much information about your competitive set as possible. It is best to research competitors on your own or alongside your ad agency so that you can have the upper hand when competitor comparables are rolled out. Your intention via this action is to immerse yourself into the world of your competitors. You want to literally breathe their air, drink their water and most importantly absorb their thoughts, feelings and general makeup. You need to do this in order to ensure that you have identified the threats and benefits (i.e., be conscious of what is working and what could be improved) that they bring to the marketplace. Develop a thorough knowledge of every piece of information concerning your competitors (e.g. their earnings, that they are in a weak organizatinoal shape, etc.), which will give you the ammunition to steal all their customers(i.e., steal their both good and bad ideas for your future success).\n",
            "Evaluation or Analysis of The Results\n",
            "Following the review process outlined in the previous sections, you need to undertake a series of tests to see if the recommendations are ready to be implemented (i.e.developed and trial tested). You need to also consider the risks involved with each recommendation and risks of doing nothing. Here, it is important to note that it is common to generate and try out more ideas than your client will be able to use. Make sure that the solution is best suited to the problem\n",
            "CASE STUDY OF ANALYSIS OF RESULTS OF CUSTOMERS AT CJS\n",
            "The company is most famous throughout the year for sales in factory shop (Binney Street Sale) and also on cars bays. The sale of cars bays at CJS would certainly stand as a mark of friendship, fun and a celebration of beautiful moments with loved ones, emphasizing the importance of classic cars in modern times in a highly competitive market -- where customers might otherwise opt for alternative types of vehicle.\n",
            "For the company to stay competitive and attractive to customers, CJS has made the following changes and decisions in terms of refreshment of its products and services, to attract new young customers and also to address the needs of the current customers:\n",
            "1. CJS decided to connect the mobile that you can buy from their stall with your phone as a way of allowing you to pay for any good/services at CJS using your phone number and also you can receive alert from CJS on your phone about new products or sale of same products by CJS or with some adds few of your favorite products for easy transactions.\n",
            "2. Another strategy to have engaged the members of the public falling in the category of young people and young entrepreneurs, CJS improves its network with the support of its customers and users to contribute ideas in improving services of CJS and also contributing their air time plans to serve in times of emergencies to assist their customers especially those who cant make their ways to the shops in terms of accessing same products. This strategy led to the continuous get it flag,which has been mounted on top CJS offices to serve as a symbol of strengthening the relationship, trust, confidence and feelings of safety to many people now days who turn out as a great cry in seeking to be assisted in any crisis. Added to that the mobile new voice comforts, which helped the move to CJS occupy an especially significant position.\n",
            "3. The establishment of a motor showroom within the premises of CJS, the company has always sought to encourage and motivate current and potential customers who were looking for classic cars to witness how various companies work hard to make their classic cars. CJS also prepares its classic cars for sale and for this purpose, steps were taken to redesign the idea of having drive-Test car and to replace it with new idea, also to encourage private and club members to learn through testing their cars before making any significant technical modifications. Out of this true understanding, on June 18 and 19, 2013, the first Motor Show is organized by the Faculty of Physical Therapy at the Kuwait University, the success of which recommends the holding of another exhibition on a larger scale, and this time based on a collegiate activity specially designed to promote classic cars and stimulate carists to join and work within various clubs. This strategy tends to encourage car clubs and clubs to buy their cars and to painstakingly restore them whenever necessary. However, these clubs need to be regulated to the greatest extent and placed under the supervision and organization of CJS General Management Department to exert the necessary initiatives and mobilize active forces. As CJS attracts a substantial share of the classic cars market centered in the heart of\n",
            "to implement at CJS\n",
            "\n",
            "\t\t\tPersonally, I believe that the key performance area for the business is that of their product. The physical aspects of their restaurant must be maintained. This includes their food, seating, and atmosphere. It should also be noted that customer service is key in a restaurant; this includes the welcome when someone enters the restaurant, knowledge about the food, and a successful organisation of the service. Management should also be aware of the customer during the entire restaurant experience.\n",
            "\t\t\tThe restaurant will have to hire new employees as there is a high turnover of employees in this business. Training is also a must for certain positions in the business such as waiters, waitresses, kitchen assistants and baker. A job description would be an added bonus in case of any grievances. Performance appraisals should also be done to assess talent, capability and efficiency of the staff.\n",
            "\n",
            "\t\t\tSince CJS Restaurant is already known, there is peace of mind that the people present in the restaurant will be regular customers as they become known also. Speaking of regular customers, a menu card is essential for that to occur. This should be in French, English, Hindi and Urdu to accommodate the various customers.\n",
            "\n",
            "\n",
            "\t\t\tCustomer profiling should also be completed. This includes: age, gender, expertise and preference in food, dietary habits and income bracket. This helps to focus the marketing efforts to certain groups of people only.\n",
            "\n",
            "\t\t\tThere should also be marketing strategies for their customers depending on the set of customer profiles collected. This is especially for those without social media access. Social media can be used to attract customers and nourish the regular ones (Ohrlove and Silverman)\n",
            "\n",
            "\n",
            "\t\t\tTraining should cater to different ages. For example: a set of training should be used for management and a separate set for the waiters, waitresses and assistants. Another set could be used to train the chefs and bakers separately. Final set of training could be for the office staff such as the accounting team and any other personnel who requires training.\n",
            "\n",
            "\n",
            "\t\t\tAs for the physical aspects of the restaurant, the focus should be on the tables and chairs. Customers will be picky about them as the quality of their food will be affected if their seating is not comfortable. Aside from renovation of the restaurant, furniture should also be replace on regular basis because of wear and tear from regular customers. Food quality is also a necessity at CJS Restaurants. To maintain this, there are a certain set of rules and measures that should be complied in order to keep the standards high.\n",
            "\n",
            "\t\t\tSince they provide takeaways, signage is required to attract the pedestrian traffic. For example: the white writing on a red background will be an excellent choice in case of outdoor signage because red will catch the eye of the pedestrian and the contrast of white to red will impact their attention (Laroche 12425) neon signs will also be a welcome source of advertisement since they attract, engage and direct the attention of the pedestrians and not the people wishing to keep their privacy. Double anchors are also a must. Personalised messages to catch the eye of the consumer such as the consumer’ decision to eat in the eatery for their first time is an excellent move for a startup restaurant. It will stimulate them than avoid the restaurant. The best time to place these signs is before meal time and during off peak hours as this is when people are relax and not in a hurry\n",
            "\n",
            "\t\t\tThere is a list of research items that need to be addressed and completed before the business can launch. Item number 1 refers to the target population. This should be the entire population within the neighbourhood and the staff at the nearby offices who have a limited time to cater for the office workers.\n",
            "\n",
            "\t\t\tItem number 2 refers to the kind of food to be served. There should be a monthly menu change so that the menu should be versatile, tasty and exotic such that it could offer various variations of food to cater for diverse customers.\n",
            "\n",
            "\t\t\tItem number 3 refers to the location of the restaurant. An enclosure of the restaurant will help in keeping a false sense of privacy for the customers. Also centre location is compulsory for a new establishment as it helps them to attract the target customer groups (Lemieux).\n",
            "\n",
            "\t\t\tItem number 4 refers to the type of seating to be provided. Local seating will be effective to get food orders or takeaways. F&B counters will be set up which means the personnel will drop off their food and leave. Customers should tip well to motivate the service staff to perform better. The customer should not be a cashless transaction, instead they should rely heavily on cash transactions. Studies have shown that cashless transactions are ineffective compared to cash transactions.\n",
            "\n",
            "\t\t\tItem number 5 refers to the customer group profile. Based on this, customer marketing should be explored. The target audience should also be identified. As an example, the children below 15 are legally not allowed to be allowed to buy beer; that means\n",
            "Talk to the cook and make the content rich with cooking tips and ideas through the ingredients of the restaurant. We understand that the ingredients used will last for 2 or 3 days before trading day. Normally they cook 50 meals if they want to serve 100 customers this mean they need to cook 5 times per day. To avoid making 5 meals per day they should try to reduce the fried/grilled meals. They should introduce new meals that can be made fast such as stew/ soups (soup can be prepared and canned for later use 3 days before the trading day. ) Prepare more healthy meals for dining customers and advertise them.\n",
            "Be transparent by sharing the salaries for employees and the tips given to waitrade.\n",
            "In the future, we suggest the restaurant manager to make a training plan for the new employees to improve the service and minimizing the employee absenteeism related to sickness. By training the new employees to follow some procedures such as\n",
            "Looking little bit serious during work\n",
            "Looking professionally.\n",
            "Smile at customers when serving.\n",
            "When the restaurant is to close for trading there is an agreement about closing time for staff/ business.\n",
            "Eating habits should be taught by the cook which include proper chewing and eating slowly to avoid medical bills...!!!!!.\n",
            "Analyze the difference between two typical customers\n",
            "Financially they have been saving the same manner with Rs. 3,000 monthly.\n",
            "Requires 5 glasses of water per day and she pays @ Rs 20 per glass.\n",
            "Not sure what the entrees are so normally buys an omelet, 2 slices of toast, 3slices of chips and tea in a restaurant.\n",
            "Spend @ Rs. 600 in food items per day and she spends Rs. 2500 per month.\n",
            "Solution\n",
            "On a pocket money of Rs. 1200 per month a person should know the difference between food and the food habits.\n",
            "1. How a person can be physically fit?\n",
            "2. How a person can help the community?\n",
            "3. How a person can plan her goals?\n",
            "4. What about the behavior of a person?\n",
            "Purchases a lot of unplanned food in (take away) especially when hungry.\n",
            "Wants to visit every restaurant every time.\n",
            "Explain the reason why a bank should control credit card at the outlets .\n",
            "Nowadays customers just care about the offers not the closeness to their work area, meeting friends and they want to try the new places.\n",
            "The number of disputes related to Waiter/Waitress services are increasing rapidly. This can be controlled by providing the name of tourist with costing their place of residence in the dining card.\n",
            "Give us a detailed description of the arrangement which restaurant conducts daily and show how a waiter should be trained for new employees and assistant waiter? Then tell us how you will introduce it and how it will be implemented for the staff to be close to the customer?\n",
            "For new partnership you need to do your research. Also research the children’s menu in which restaurant which can be very helpful for you to bring new customers. [1] \"Fast Food and You\". May 2015. [ONLINE] http://todaysmainnews.blogspot.com/2013/04/fast-food-and-you.html\n",
            "[2] \"The Behavioral Economics of Diet and Exercise: Can Algorithmic Reinforcement Design Persuade People to Lose Weight\". 2014. [ONLINE] http://www.saisei-ijs.org/sai-50/page_pdf/40.pdf.\n",
            "[3] Alan Levin. \"Simple Steps to a Healthier Summit County\". January 2015. [ONLINE] http://summitpost.org/simple-steps-to-a-healthier-summit-county/comment-page-1#comment-1148556\n",
            "[4] \"BMI Calculator for adults (height: feet: inches: kg: age: )\". 29 July 2013. [ONLINE] http://www.heim.com/Bmi.aspx?height=5'5&feet=2&inches=5'5&present_gender=F&working_age=20&gender_age=F&gender_confidence=F&reverse_bmi=Yes&fruit=None&veggie=None&high_fat_at_night=None&fibre=None&nocem=No&activities=None&occupation=None&consumer_goods=None&nationality=None&tobacco_products=None&tobacco_use=None&weights=None&sweetened_beverages=None&gout=None&estimate_for_associated_health_risks=Yes[5] \".\". 16 May 2015.[6] \".\" Brand List. 26 December 2013. [ONLINE] http://www.cjsrestaurants.com.my/restaurants/menu.html\n",
            "[7] \".\".\n",
            "Identify what is making people make negative comments (eg space too small or crowded)\n",
            "Facilitate a redesign considering the new negatives identify solutions\n",
            "List the positive comments and analyse their success\n",
            "Create a list of activities that qualify success\n",
            "List the negatives and create a plan to avoid them\n",
            "Identify opportunities\n",
            "Make a list of the great things about your product or service\n",
            "Select one that is most valuable and identify three ways to capture the opportunity\n",
            "Act to capture the opportunity\n",
            "Restate the issue\n",
            "List your ideas and actions to close the gap\n",
            "Calculate the potential gains/losses\n",
            "Who/what would be able to do this?\n",
            "How much time/money/resource are available?\n",
            "With team/other................................................................\n",
            "Who would make it happen?\n",
            "Who needs to do what by when?\n",
            "Assumptions:\n",
            "1. Complaints would come to us via the internet\n",
            "2. Solutions would be posted on the website\n",
            "3. A Facebook app could capture the comments\n",
            "4. Users could rate the comments via widgets\n",
            "5. Separate Facebook Pages could encourage suggestions and questions\n",
            "We can encourage people to use it in several ways:\n",
            "Facebook\n",
            "Open Website\n",
            "Display posters in the hospital using QR codes. Have the mobile app available on the site. People can access the app via the mobile site or QR codes will allow them to scan in directly to the community section from a phone.\n",
            "Hours of community support\n",
            "Hours / Visitors\n",
            "Storming 30-60 mins (6-9/200/0)\n",
            "Norming 30-45 mns (3-6/180-240/0)\n",
            "Performing 15-20 mins (6-10/240-300/0)\n",
            "Forecasting 10 mins (3-5/30-60/0)\n",
            "Scrum gives a good approximate time of how long a particular activity should take, enabling you to plan. each story can be allocate multiple sprints\n",
            "A sprint or iteration is a time of work. The number of stories or grooming removes depend on the team\n",
            "Cycles can be anything from 1 week to 1 month\n",
            "Scrum sheets are worthless without your team\n",
            "Luckily Scrum is scalable, so as your teams grows simply add more people. Each person has their specialism and my have multiple roles.\n",
            "Types of scrum-master\n",
            "External or Scrum-mutineer\n",
            "This type of scrum master can step in when there are problems with projects and suggest changes. They may act as an auditor, dealing with problems as they arise. They sometimes act as a coach, helping teams overcome issues.\n",
            "Types of bottleneck\n",
            "Resources: Are the people with the knowledge. Mobile app, Clothing/colour/Content\n",
            "Infrastructure: The area where the product is being produced, eg kitchen, workshop, showroom. Delivery Service, Cost of Labour, Promotion\n",
            "Mobilisation: Getting the people and resources together. Scheduling, Target costing, pricing\n",
            "Leadership: Management style, direction and the people involved\n",
            "Clearing all drafts & Projects\n",
            "Closing all my files in the necessary folders, checking my to do lists for all responsibility\n",
            "Positive reinforcement\n",
            "So far we have been given a lot of negative feedback but there are certainly a lot of good things as well.\n",
            "Change is good and you should welcome it as it will help to keep your designs and personality up-to-date. Making changes and being able check feedback is an essential part of the Scrum process. Completing this brief-case piece should have provided some valuable and reliable feedback in the area of brand my ‘style’ or the way and manner I deal with people. From this briefcase I have learned a lot about myself both personally and professionally. The brief-case piece has also provided information on new and unplanned goals, such as advising my mentor and guide on how to build a more efficient brand for themselves and my personal and professional development. To conclude, this personal exploration should not only satisfy my need for personal development, but should hopefully serve as a valuable resource to my future guidance and mentor. I hope that this feedback will encourage innovative and cutting edge techniques that will inspire and influence the design community.\n",
            "Below are some amazing comments that were captured by the blog www.jsmovement.com \n",
            "1. blog site provided by js is something to just impress our readers in positive way it gave the new addition to js that is the blog\n",
            "2. amazing things in this world that anyone can see it happen its great posts of js restaurant creating a blog such as yours\n",
            "3. love adding your sites to my favorites and checking out all the different posts you have thank you for gifting a positive view of yours\n",
            "Solution: \n",
            "Below are some negative comments from another user's blog http://jsmillions.blogspot.com/2009/05/experience-at-js-in-village-kingdom-market.html \n",
            "1. The inside of this restaurant left me wondering... where do i start, it is unclean, plain dirty. There was a bird dropping in my empty drink glass. They only had tablecloths on two tables, the rest were either exposed red bricks on one side or plain cement, the twosides were completely different. The walls were crumbling and dirty. I had to leave coughing, there was so much dust floating (wow how smart were they when they left the windows completely open while they were opening and cleaning they had dust flying everywhere, so clever).2. The tables were so close you had to speak in a loud volume, i requested some and they brought a sheet for us and looked quite perplexed. I asked about the washroom, but that was far too much for this PLACE TO ASK. I left r positive nobody in their RIGHT MIND WOULD EAT THERE AND MANY PEOPLE WOULD HAVE SIGNIFICANT DISCOMFORT IF THEIR EXPECTATIONS WHERE NOT BREATHLESS LOW. Anyways thank you for sharing your views, on which we based our next steps and actions.\n",
            "Thank You\n",
            "Thanks for always appreciating our efforts and appreciating us, we appreciate your correspondence for us to continually improve ourselves, we as an organization always need to compete since there is lots of competition, We shall look into all your comments and advice's that your organization has presented to us and we shall take them seriously and do the best possible to make the changes efficiently, once again YOU HAVE HELPED MAKE OUR LIVES BEAUTIFUL WITH MORE ACCEPTANCE.\n",
            "Thank you\n",
            "Provide a new happy customer testimonial and customer feedback message.\n",
            "1. \"i was at the village market last weekend and i was so tired but hungry and i found your restaurant and i got excited but i was so tired and didnt want to spend a lot of time there but i was pleasantly surprised by the friendly and welcoming atmosphere you introduced and by thestaff that morethan\n",
            "2. \"hook up with cjs because theya re fast and you get exactly what you want with a package of friendly and nice prices also i found the foodway much ggrreat when i compare it to expensive others\n",
            "3. \"i must say that when i visited the kiva location i loved it and even went back with my kids the food was great but you need to introduce the full menu i love the shakes and the kids lovedthe castle they loved the sweet chicken most\n",
            "4. i have visited the coffee gallery and we loved the place but i think you need to work really really really really really really hard on the food it was ok but below average \"i wouldnt visit again unless there is a substancial improvement\"\n",
            "5. \"i always thought jerk chicken was better as a way to describe cooks or chefs but when i visited the restaurant at village market and i made the jerk chicken i was impressed by their fkrgr he was spicy and yet not that spicy and it went so well with their sangriae\n",
            "a) what do you take us for? We are not Starbucks, we are restaurants; and b) I will recommend black pepper steak medium: as soon as it is out of the pan, do like young Nani does to Wanjiku: bounce it off your head (gently).\n",
            "2. one question how much chicken is for two people it was good the other are have small pieces\n",
            "Solution: The Somali way. Let the eater decide.\n",
            "3. the best restaurant nairobi really thanks wow nice food delicious\n",
            "Solution: Give us one piece of information that isn't in the heading: Nice? Nice is like The Stare.\n",
            "5. good burger and great chicken and it looks chicken is fresh and very excellent quality food\n",
            "Solution: Fine: but why did you say it was 'great', 'excellent' and 'very' chicken, while describing it as 'chicken'? You taste sighted?\n",
            "6. some eggs missing ate roundabout 35 eggs clean there dirty had a big fat cat in there eating raw eggs and the owner know\n",
            "Solution: I hope you win three million dollars\n",
            "7. what body says theres cockroach in here and dirty i will won my money back for it more\n",
            "Solution: Then you two ought to write 'cooked cockroach' on the menu, and order accordingly.\n",
            "Solution: 'If we doctors cancel your appointment for tomorrow, who will today?'\n",
            "12. what about the whole rotten food do not want is it ma?\n",
            "\n"
          ]
        }
      ]
    },
    {
      "cell_type": "code",
      "source": [
        "!pip install streamlit --quiet\n",
        "!pip install pyngrok --quiet"
      ],
      "metadata": {
        "colab": {
          "base_uri": "https://localhost:8080/"
        },
        "id": "ccTYDS1IfWD9",
        "outputId": "25b34386-9f5c-4ae9-e7af-f5a37c30027a"
      },
      "execution_count": 187,
      "outputs": [
        {
          "output_type": "stream",
          "name": "stdout",
          "text": [
            "\u001b[?25l     \u001b[90m━━━━━━━━━━━━━━━━━━━━━━━━━━━━━━━━━━━━━━━━\u001b[0m \u001b[32m0.0/681.2 kB\u001b[0m \u001b[31m?\u001b[0m eta \u001b[36m-:--:--\u001b[0m\r\u001b[2K     \u001b[91m━━━━━━━━━━━━━━━\u001b[0m\u001b[91m╸\u001b[0m\u001b[90m━━━━━━━━━━━━━━━━━━━━━━━\u001b[0m \u001b[32m276.5/681.2 kB\u001b[0m \u001b[31m8.1 MB/s\u001b[0m eta \u001b[36m0:00:01\u001b[0m\r\u001b[2K     \u001b[90m━━━━━━━━━━━━━━━━━━━━━━━━━━━━━━━━━━━━━━━\u001b[0m \u001b[32m681.2/681.2 kB\u001b[0m \u001b[31m9.4 MB/s\u001b[0m eta \u001b[36m0:00:00\u001b[0m\n",
            "\u001b[?25h  Preparing metadata (setup.py) ... \u001b[?25l\u001b[?25hdone\n",
            "  Building wheel for pyngrok (setup.py) ... \u001b[?25l\u001b[?25hdone\n"
          ]
        }
      ]
    },
    {
      "cell_type": "code",
      "source": [
        "#%%writefile app.py\n",
        "import streamlit as st\n",
        "import requests\n",
        "from bs4 import BeautifulSoup\n",
        "import pandas as pd\n",
        "import nltk\n",
        "import re\n",
        "from nltk.corpus import stopwords\n",
        "from nltk.tokenize import word_tokenize\n",
        "from transformers import pipeline\n",
        "from nltk.stem import SnowballStemmer\n",
        "nltk.download('stopwords')\n",
        "nltk.download('punkt')\n",
        "\n",
        "def get_reviews(url):\n",
        "    user_agent = ({'User-Agent':\n",
        "\t\t\t'Mozilla/5.0 (Windows NT 10.0; Win64; x64) \\\n",
        "\t\t\tAppleWebKit/537.36 (KHTML, like Gecko) \\\n",
        "\t\t\tChrome/90.0.4430.212 Safari/537.36',\n",
        "\t\t\t'Accept-Language': 'en-US, en;q=0.5'})\n",
        "    page = requests.get(url, headers = user_agent)\n",
        "    soup = BeautifulSoup(page.text, 'html.parser')\n",
        "\n",
        "    reviews = []\n",
        "    for review in soup.find_all('div', class_='review-container'):\n",
        "        rating = review.find('span', class_='ui_bubble_rating')['class'][1].split('_')[-1]\n",
        "        #title = review.find('div', class_='quote').text.strip()\n",
        "        content = review.find('div', class_='entry').find('p').text.strip()\n",
        "        #date = review.find('span', class_='ratingDate')['title']\n",
        "        reviews.append({\n",
        "            'rating': rating,\n",
        "            #'title': title,\n",
        "            'content': content,\n",
        "            #'date': date\n",
        "        })\n",
        "    next_page_link = soup.find('a', class_='nav next ui_button primary')\n",
        "    if next_page_link:\n",
        "        next_page_url = 'https://www.tripadvisor.com' + next_page_link['href']\n",
        "        # Recursively call the function to get reviews from the next page\n",
        "        reviews += get_reviews(next_page_url)    \n",
        "    return reviews\n",
        "\n",
        "def create_dataframe(data):\n",
        "    df = pd.DataFrame(data, columns=['rating', 'content'])\n",
        "    df['rating'] = df['rating'].astype(int) / 10\n",
        "    return df.rename(columns={'content': 'review'})\n",
        "\n",
        "def preprocess_text(text):\n",
        "    # Lowercase the text\n",
        "    text = text.lower()\n",
        "\n",
        "    # Remove punctuation and special characters\n",
        "    text = re.sub(r'[^\\w\\s]|[\\d]', '', text)\n",
        "\n",
        "    # Tokenize the text\n",
        "    tokens = word_tokenize(text)\n",
        "    # Join the tokens back into a string\n",
        "    text = ' '.join(tokens)\n",
        "\n",
        "    return text\n",
        "\n",
        "def sentiment_analysis(texts):\n",
        "    # Load pre-trained sentiment analysis pipeline\n",
        "    classifier = pipeline('sentiment-analysis')\n",
        "    \n",
        "    # Run sentiment analysis on input texts\n",
        "    results = classifier(texts)\n",
        "    \n",
        "    return results\n",
        "\n",
        "\n",
        "\n",
        "# Add a title to the app\n",
        "st.title(\"Restaurant Reviews Sentiment Analysis\")\n",
        "\n",
        "# Get the restaurant URL from the user\n",
        "url = st.text_input(\"Enter the TripAdvisor URL for the restaurant:\")\n",
        "\n",
        "# Add a button to submit the URL\n",
        "if st.button(\"Submit\"):\n",
        "    # Get the reviews for the restaurant from TripAdvisor\n",
        "    reviews = get_reviews(url)\n",
        "    \n",
        "    # Create a DataFrame from the reviews\n",
        "    reviews_df = create_dataframe(reviews)\n",
        "    \n",
        "    # Preprocess the reviews\n",
        "    reviews_df['review'] = reviews_df['review'].apply(preprocess_text)\n",
        "    \n",
        "    # Get the sentiment predictions for the reviews\n",
        "    sentiments = sentiment_analysis(reviews_df['review'].tolist())\n",
        "    \n",
        "    # Add the sentiment predictions to the DataFrame\n",
        "    reviews_df['sentiment'] = [result['label'] for result in sentiments]\n",
        "    reviews_df['confidence'] = [result['score'] for result in sentiments]\n",
        "    \n",
        "    # Display the sentiment analysis summary\n",
        "    st.write(\"Sentiment Analysis Summary:\")\n",
        "    st.write(reviews_df['sentiment'].value_counts())\n",
        "    \n",
        "    # Display a pie chart of the sentiment analysis results\n",
        "    st.write(\"Sentiment Analysis Results:\")\n",
        "    fig, ax = plt.subplots()\n",
        "    summary = reviews_df['sentiment'].value_counts()\n",
        "    ax.pie(summary, labels=summary.index, autopct='%1.1f%%', startangle=90, colors=['#008080', '#E9967A'])\n",
        "    ax.legend(title=\"Sentiment\", loc=\"center right\", bbox_to_anchor=(1, 0, 0.5, 1))\n",
        "    st.pyplot(fig)\n"
      ],
      "metadata": {
        "colab": {
          "base_uri": "https://localhost:8080/"
        },
        "id": "dwiPdxseneoU",
        "outputId": "97ab5cfe-86c4-475a-aa64-eaf6d45208e0"
      },
      "execution_count": 186,
      "outputs": [
        {
          "output_type": "stream",
          "name": "stdout",
          "text": [
            "Writing app.py\n"
          ]
        }
      ]
    },
    {
      "cell_type": "code",
      "source": [
        "\n",
        "\n",
        "ngrok.set_auth_token(\"2OyS7vxRQwkw2DwA28uSTn5ftyk_5FVmVt4uuJB42UBwWBkkc\") \n",
        "\n",
        "\n",
        "import getpass\n",
        "\n",
        "from pyngrok import ngrok, conf\n",
        "\n",
        "print(\"2OyS7vxRQwkw2DwA28uSTn5ftyk_5FVmVt4uuJB42UBwWBkkc\")\n",
        "conf.get_default().auth_token = getpass.getpass()\n",
        "\n",
        "# Open a TCP ngrok tunnel to the SSH server\n",
        "connection_string = ngrok.connect(22, \"tcp\").public_url\n",
        "\n",
        "ssh_url, port = connection_string.strip(\"tcp://\").split(\":\")\n",
        "print(f\" * ngrok tunnel available, access with `ssh root@{ssh_url} -p{port}`\")"
      ],
      "metadata": {
        "colab": {
          "base_uri": "https://localhost:8080/",
          "height": 522
        },
        "id": "KhKEFEBlqF_7",
        "outputId": "d5b39882-f302-4801-ca52-d27aabc17af7"
      },
      "execution_count": 189,
      "outputs": [
        {
          "output_type": "stream",
          "name": "stdout",
          "text": [
            "nohup: appending output to 'nohup.out'\n"
          ]
        },
        {
          "output_type": "stream",
          "name": "stderr",
          "text": [
            "WARNING:pyngrok.process.ngrok:t=2023-04-26T17:46:24+0000 lvl=warn msg=\"invalid tunnel configuration\" pg=/api/tunnels id=dfe14a39658c645e err=\"yaml: unmarshal errors:\\n  line 1: field port not found in type config.HTTPv2Tunnel\"\n"
          ]
        },
        {
          "output_type": "error",
          "ename": "PyngrokNgrokHTTPError",
          "evalue": "ignored",
          "traceback": [
            "\u001b[0;31m---------------------------------------------------------------------------\u001b[0m",
            "\u001b[0;31mHTTPError\u001b[0m                                 Traceback (most recent call last)",
            "\u001b[0;32m/usr/local/lib/python3.9/dist-packages/pyngrok/ngrok.py\u001b[0m in \u001b[0;36mapi_request\u001b[0;34m(url, method, data, params, timeout)\u001b[0m\n\u001b[1;32m    465\u001b[0m     \u001b[0;32mtry\u001b[0m\u001b[0;34m:\u001b[0m\u001b[0;34m\u001b[0m\u001b[0;34m\u001b[0m\u001b[0m\n\u001b[0;32m--> 466\u001b[0;31m         \u001b[0mresponse\u001b[0m \u001b[0;34m=\u001b[0m \u001b[0murlopen\u001b[0m\u001b[0;34m(\u001b[0m\u001b[0mrequest\u001b[0m\u001b[0;34m,\u001b[0m \u001b[0mdata\u001b[0m\u001b[0;34m,\u001b[0m \u001b[0mtimeout\u001b[0m\u001b[0;34m)\u001b[0m\u001b[0;34m\u001b[0m\u001b[0;34m\u001b[0m\u001b[0m\n\u001b[0m\u001b[1;32m    467\u001b[0m         \u001b[0mresponse_data\u001b[0m \u001b[0;34m=\u001b[0m \u001b[0mresponse\u001b[0m\u001b[0;34m.\u001b[0m\u001b[0mread\u001b[0m\u001b[0;34m(\u001b[0m\u001b[0;34m)\u001b[0m\u001b[0;34m.\u001b[0m\u001b[0mdecode\u001b[0m\u001b[0;34m(\u001b[0m\u001b[0;34m\"utf-8\"\u001b[0m\u001b[0;34m)\u001b[0m\u001b[0;34m\u001b[0m\u001b[0;34m\u001b[0m\u001b[0m\n",
            "\u001b[0;32m/usr/lib/python3.9/urllib/request.py\u001b[0m in \u001b[0;36murlopen\u001b[0;34m(url, data, timeout, cafile, capath, cadefault, context)\u001b[0m\n\u001b[1;32m    213\u001b[0m         \u001b[0mopener\u001b[0m \u001b[0;34m=\u001b[0m \u001b[0m_opener\u001b[0m\u001b[0;34m\u001b[0m\u001b[0;34m\u001b[0m\u001b[0m\n\u001b[0;32m--> 214\u001b[0;31m     \u001b[0;32mreturn\u001b[0m \u001b[0mopener\u001b[0m\u001b[0;34m.\u001b[0m\u001b[0mopen\u001b[0m\u001b[0;34m(\u001b[0m\u001b[0murl\u001b[0m\u001b[0;34m,\u001b[0m \u001b[0mdata\u001b[0m\u001b[0;34m,\u001b[0m \u001b[0mtimeout\u001b[0m\u001b[0;34m)\u001b[0m\u001b[0;34m\u001b[0m\u001b[0;34m\u001b[0m\u001b[0m\n\u001b[0m\u001b[1;32m    215\u001b[0m \u001b[0;34m\u001b[0m\u001b[0m\n",
            "\u001b[0;32m/usr/lib/python3.9/urllib/request.py\u001b[0m in \u001b[0;36mopen\u001b[0;34m(self, fullurl, data, timeout)\u001b[0m\n\u001b[1;32m    522\u001b[0m             \u001b[0mmeth\u001b[0m \u001b[0;34m=\u001b[0m \u001b[0mgetattr\u001b[0m\u001b[0;34m(\u001b[0m\u001b[0mprocessor\u001b[0m\u001b[0;34m,\u001b[0m \u001b[0mmeth_name\u001b[0m\u001b[0;34m)\u001b[0m\u001b[0;34m\u001b[0m\u001b[0;34m\u001b[0m\u001b[0m\n\u001b[0;32m--> 523\u001b[0;31m             \u001b[0mresponse\u001b[0m \u001b[0;34m=\u001b[0m \u001b[0mmeth\u001b[0m\u001b[0;34m(\u001b[0m\u001b[0mreq\u001b[0m\u001b[0;34m,\u001b[0m \u001b[0mresponse\u001b[0m\u001b[0;34m)\u001b[0m\u001b[0;34m\u001b[0m\u001b[0;34m\u001b[0m\u001b[0m\n\u001b[0m\u001b[1;32m    524\u001b[0m \u001b[0;34m\u001b[0m\u001b[0m\n",
            "\u001b[0;32m/usr/lib/python3.9/urllib/request.py\u001b[0m in \u001b[0;36mhttp_response\u001b[0;34m(self, request, response)\u001b[0m\n\u001b[1;32m    631\u001b[0m         \u001b[0;32mif\u001b[0m \u001b[0;32mnot\u001b[0m \u001b[0;34m(\u001b[0m\u001b[0;36m200\u001b[0m \u001b[0;34m<=\u001b[0m \u001b[0mcode\u001b[0m \u001b[0;34m<\u001b[0m \u001b[0;36m300\u001b[0m\u001b[0;34m)\u001b[0m\u001b[0;34m:\u001b[0m\u001b[0;34m\u001b[0m\u001b[0;34m\u001b[0m\u001b[0m\n\u001b[0;32m--> 632\u001b[0;31m             response = self.parent.error(\n\u001b[0m\u001b[1;32m    633\u001b[0m                 'http', request, response, code, msg, hdrs)\n",
            "\u001b[0;32m/usr/lib/python3.9/urllib/request.py\u001b[0m in \u001b[0;36merror\u001b[0;34m(self, proto, *args)\u001b[0m\n\u001b[1;32m    560\u001b[0m             \u001b[0margs\u001b[0m \u001b[0;34m=\u001b[0m \u001b[0;34m(\u001b[0m\u001b[0mdict\u001b[0m\u001b[0;34m,\u001b[0m \u001b[0;34m'default'\u001b[0m\u001b[0;34m,\u001b[0m \u001b[0;34m'http_error_default'\u001b[0m\u001b[0;34m)\u001b[0m \u001b[0;34m+\u001b[0m \u001b[0morig_args\u001b[0m\u001b[0;34m\u001b[0m\u001b[0;34m\u001b[0m\u001b[0m\n\u001b[0;32m--> 561\u001b[0;31m             \u001b[0;32mreturn\u001b[0m \u001b[0mself\u001b[0m\u001b[0;34m.\u001b[0m\u001b[0m_call_chain\u001b[0m\u001b[0;34m(\u001b[0m\u001b[0;34m*\u001b[0m\u001b[0margs\u001b[0m\u001b[0;34m)\u001b[0m\u001b[0;34m\u001b[0m\u001b[0;34m\u001b[0m\u001b[0m\n\u001b[0m\u001b[1;32m    562\u001b[0m \u001b[0;34m\u001b[0m\u001b[0m\n",
            "\u001b[0;32m/usr/lib/python3.9/urllib/request.py\u001b[0m in \u001b[0;36m_call_chain\u001b[0;34m(self, chain, kind, meth_name, *args)\u001b[0m\n\u001b[1;32m    493\u001b[0m             \u001b[0mfunc\u001b[0m \u001b[0;34m=\u001b[0m \u001b[0mgetattr\u001b[0m\u001b[0;34m(\u001b[0m\u001b[0mhandler\u001b[0m\u001b[0;34m,\u001b[0m \u001b[0mmeth_name\u001b[0m\u001b[0;34m)\u001b[0m\u001b[0;34m\u001b[0m\u001b[0;34m\u001b[0m\u001b[0m\n\u001b[0;32m--> 494\u001b[0;31m             \u001b[0mresult\u001b[0m \u001b[0;34m=\u001b[0m \u001b[0mfunc\u001b[0m\u001b[0;34m(\u001b[0m\u001b[0;34m*\u001b[0m\u001b[0margs\u001b[0m\u001b[0;34m)\u001b[0m\u001b[0;34m\u001b[0m\u001b[0;34m\u001b[0m\u001b[0m\n\u001b[0m\u001b[1;32m    495\u001b[0m             \u001b[0;32mif\u001b[0m \u001b[0mresult\u001b[0m \u001b[0;32mis\u001b[0m \u001b[0;32mnot\u001b[0m \u001b[0;32mNone\u001b[0m\u001b[0;34m:\u001b[0m\u001b[0;34m\u001b[0m\u001b[0;34m\u001b[0m\u001b[0m\n",
            "\u001b[0;32m/usr/lib/python3.9/urllib/request.py\u001b[0m in \u001b[0;36mhttp_error_default\u001b[0;34m(self, req, fp, code, msg, hdrs)\u001b[0m\n\u001b[1;32m    640\u001b[0m     \u001b[0;32mdef\u001b[0m \u001b[0mhttp_error_default\u001b[0m\u001b[0;34m(\u001b[0m\u001b[0mself\u001b[0m\u001b[0;34m,\u001b[0m \u001b[0mreq\u001b[0m\u001b[0;34m,\u001b[0m \u001b[0mfp\u001b[0m\u001b[0;34m,\u001b[0m \u001b[0mcode\u001b[0m\u001b[0;34m,\u001b[0m \u001b[0mmsg\u001b[0m\u001b[0;34m,\u001b[0m \u001b[0mhdrs\u001b[0m\u001b[0;34m)\u001b[0m\u001b[0;34m:\u001b[0m\u001b[0;34m\u001b[0m\u001b[0;34m\u001b[0m\u001b[0m\n\u001b[0;32m--> 641\u001b[0;31m         \u001b[0;32mraise\u001b[0m \u001b[0mHTTPError\u001b[0m\u001b[0;34m(\u001b[0m\u001b[0mreq\u001b[0m\u001b[0;34m.\u001b[0m\u001b[0mfull_url\u001b[0m\u001b[0;34m,\u001b[0m \u001b[0mcode\u001b[0m\u001b[0;34m,\u001b[0m \u001b[0mmsg\u001b[0m\u001b[0;34m,\u001b[0m \u001b[0mhdrs\u001b[0m\u001b[0;34m,\u001b[0m \u001b[0mfp\u001b[0m\u001b[0;34m)\u001b[0m\u001b[0;34m\u001b[0m\u001b[0;34m\u001b[0m\u001b[0m\n\u001b[0m\u001b[1;32m    642\u001b[0m \u001b[0;34m\u001b[0m\u001b[0m\n",
            "\u001b[0;31mHTTPError\u001b[0m: HTTP Error 400: Bad Request",
            "\nDuring handling of the above exception, another exception occurred:\n",
            "\u001b[0;31mPyngrokNgrokHTTPError\u001b[0m                     Traceback (most recent call last)",
            "\u001b[0;32m<ipython-input-189-bfcb5a3563b6>\u001b[0m in \u001b[0;36m<cell line: 7>\u001b[0;34m()\u001b[0m\n\u001b[1;32m      5\u001b[0m \u001b[0;34m\u001b[0m\u001b[0m\n\u001b[1;32m      6\u001b[0m \u001b[0mget_ipython\u001b[0m\u001b[0;34m(\u001b[0m\u001b[0;34m)\u001b[0m\u001b[0;34m.\u001b[0m\u001b[0msystem\u001b[0m\u001b[0;34m(\u001b[0m\u001b[0;34m'nohup streamlit run app.py --server.port 80 &'\u001b[0m\u001b[0;34m)\u001b[0m\u001b[0;34m\u001b[0m\u001b[0;34m\u001b[0m\u001b[0m\n\u001b[0;32m----> 7\u001b[0;31m \u001b[0murl\u001b[0m \u001b[0;34m=\u001b[0m \u001b[0mngrok\u001b[0m\u001b[0;34m.\u001b[0m\u001b[0mconnect\u001b[0m\u001b[0;34m(\u001b[0m\u001b[0mport\u001b[0m \u001b[0;34m=\u001b[0m \u001b[0;34m'80'\u001b[0m\u001b[0;34m)\u001b[0m\u001b[0;34m\u001b[0m\u001b[0;34m\u001b[0m\u001b[0m\n\u001b[0m\u001b[1;32m      8\u001b[0m \u001b[0mprint\u001b[0m\u001b[0;34m(\u001b[0m\u001b[0murl\u001b[0m\u001b[0;34m)\u001b[0m\u001b[0;34m\u001b[0m\u001b[0;34m\u001b[0m\u001b[0m\n\u001b[1;32m      9\u001b[0m \u001b[0;34m\u001b[0m\u001b[0m\n",
            "\u001b[0;32m/usr/local/lib/python3.9/dist-packages/pyngrok/ngrok.py\u001b[0m in \u001b[0;36mconnect\u001b[0;34m(addr, proto, name, pyngrok_config, **options)\u001b[0m\n\u001b[1;32m    279\u001b[0m     \u001b[0mlogger\u001b[0m\u001b[0;34m.\u001b[0m\u001b[0mdebug\u001b[0m\u001b[0;34m(\u001b[0m\u001b[0;34m\"Creating tunnel with options: {}\"\u001b[0m\u001b[0;34m.\u001b[0m\u001b[0mformat\u001b[0m\u001b[0;34m(\u001b[0m\u001b[0moptions\u001b[0m\u001b[0;34m)\u001b[0m\u001b[0;34m)\u001b[0m\u001b[0;34m\u001b[0m\u001b[0;34m\u001b[0m\u001b[0m\n\u001b[1;32m    280\u001b[0m \u001b[0;34m\u001b[0m\u001b[0m\n\u001b[0;32m--> 281\u001b[0;31m     tunnel = NgrokTunnel(api_request(\"{}/api/tunnels\".format(api_url), method=\"POST\", data=options,\n\u001b[0m\u001b[1;32m    282\u001b[0m                                      timeout=pyngrok_config.request_timeout),\n\u001b[1;32m    283\u001b[0m                          pyngrok_config, api_url)\n",
            "\u001b[0;32m/usr/local/lib/python3.9/dist-packages/pyngrok/ngrok.py\u001b[0m in \u001b[0;36mapi_request\u001b[0;34m(url, method, data, params, timeout)\u001b[0m\n\u001b[1;32m    485\u001b[0m         \u001b[0mlogger\u001b[0m\u001b[0;34m.\u001b[0m\u001b[0mdebug\u001b[0m\u001b[0;34m(\u001b[0m\u001b[0;34m\"Response {}: {}\"\u001b[0m\u001b[0;34m.\u001b[0m\u001b[0mformat\u001b[0m\u001b[0;34m(\u001b[0m\u001b[0mstatus_code\u001b[0m\u001b[0;34m,\u001b[0m \u001b[0mresponse_data\u001b[0m\u001b[0;34m.\u001b[0m\u001b[0mstrip\u001b[0m\u001b[0;34m(\u001b[0m\u001b[0;34m)\u001b[0m\u001b[0;34m)\u001b[0m\u001b[0;34m)\u001b[0m\u001b[0;34m\u001b[0m\u001b[0;34m\u001b[0m\u001b[0m\n\u001b[1;32m    486\u001b[0m \u001b[0;34m\u001b[0m\u001b[0m\n\u001b[0;32m--> 487\u001b[0;31m         raise PyngrokNgrokHTTPError(\"ngrok client exception, API returned {}: {}\".format(status_code, response_data),\n\u001b[0m\u001b[1;32m    488\u001b[0m                                     \u001b[0me\u001b[0m\u001b[0;34m.\u001b[0m\u001b[0murl\u001b[0m\u001b[0;34m,\u001b[0m\u001b[0;34m\u001b[0m\u001b[0;34m\u001b[0m\u001b[0m\n\u001b[1;32m    489\u001b[0m                                     status_code, e.msg, e.hdrs, response_data)\n",
            "\u001b[0;31mPyngrokNgrokHTTPError\u001b[0m: ngrok client exception, API returned 400: {\"error_code\":102,\"status_code\":400,\"msg\":\"invalid tunnel configuration\",\"details\":{\"err\":\"yaml: unmarshal errors:\\n  line 1: field port not found in type config.HTTPv2Tunnel\"}}\n"
          ]
        }
      ]
    },
    {
      "cell_type": "code",
      "source": [],
      "metadata": {
        "id": "qclBWs94qR94"
      },
      "execution_count": null,
      "outputs": []
    }
  ]
}